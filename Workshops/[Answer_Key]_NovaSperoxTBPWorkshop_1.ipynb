{
  "cells": [
    {
      "cell_type": "markdown",
      "metadata": {
        "colab_type": "text",
        "id": "view-in-github"
      },
      "source": [
        "<a href=\"https://colab.research.google.com/github/d8maldon/Python_Workshops/blob/main/%5BAnswer_Key%5D_NovaSperoxTBPWorkshop_1.ipynb\" target=\"_parent\"><img src=\"https://colab.research.google.com/assets/colab-badge.svg\" alt=\"Open In Colab\"/></a>"
      ]
    },
    {
      "cell_type": "markdown",
      "metadata": {
        "id": "fv6zLc712mfT"
      },
      "source": [
        "# Nova Spero x Tau Beta Pi: Python Workshop 1 \n",
        "# (The Basics: Numbers, Variables, Logic, and Functions)\n",
        "\n",
        "This workbook will explore how to handle numbers, variables, conditionals, loops, and functions using Python.\n",
        "\n",
        "### Goals\n",
        "Learn how to take make use of numbers and variables to create a function:\n",
        "- Understand what a variable means\n",
        "- Learn how to introduce conditions in code\n",
        "- Learn how to automate repetitive tasks\n",
        "- Learn how to write a function\n",
        "- Learn how to create a general plot and an interactive plot with functions\n",
        "\n",
        "### Requirements\n",
        "The following are necessary libraries needed to perform the following exercises.\n",
        "\n",
        "- random = used to generate random values\n"
      ]
    },
    {
      "cell_type": "code",
      "execution_count": 2,
      "metadata": {
        "id": "4tO0Jm3E2mfW"
      },
      "outputs": [],
      "source": [
        "# load the required packages\n",
        "import random\n",
        "import turtle"
      ]
    },
    {
      "cell_type": "markdown",
      "metadata": {
        "id": "n3ncgGaD2mfb"
      },
      "source": [
        "<br><hr style=\"border: 0.5px solid#C4C4C4;\" /><br>\n",
        "## 1) Exploring numbers\n",
        "\n",
        "Programming languages work with data which comes in many forms. Some data is simple text [such as this sentence], and some of it is very complex [videos and sound]. \n",
        "\n",
        "\n",
        "<br>\n",
        "\n",
        "We are familiar with numbers and we will see that numbers behave similarly to what we are used to. In the following exercises we will use our understanding of numbers and basic arithmetic. \n",
        "\n",
        "<br>\n",
        "\n",
        "Let's start by typing your favorite number, and performing arithmetic operations: \n",
        "\n",
        "In the code cells below, we will try out:\n",
        "\n",
        "- Print a number\n",
        "- Perform a summation"
      ]
    },
    {
      "cell_type": "code",
      "execution_count": 2,
      "metadata": {
        "colab": {
          "base_uri": "https://localhost:8080/"
        },
        "id": "QQZ8DEbi2mfd",
        "outputId": "f3e22db5-35c1-4b9b-f9de-50a011c5d85d"
      },
      "outputs": [
        {
          "data": {
            "text/plain": [
              "9"
            ]
          },
          "execution_count": 2,
          "metadata": {},
          "output_type": "execute_result"
        }
      ],
      "source": [
        "# Type your favorite number below\n",
        "# EX: 10\n",
        "9"
      ]
    },
    {
      "cell_type": "code",
      "execution_count": 3,
      "metadata": {
        "colab": {
          "base_uri": "https://localhost:8080/"
        },
        "id": "CtLkBinmE_hJ",
        "outputId": "66e431cc-d28d-4d7c-9472-d2380f5884db"
      },
      "outputs": [
        {
          "data": {
            "text/plain": [
              "12"
            ]
          },
          "execution_count": 3,
          "metadata": {},
          "output_type": "execute_result"
        }
      ],
      "source": [
        "# Perform a summation between your favorite and least favorite number\n",
        "# EX: 10+7 \n",
        "12"
      ]
    },
    {
      "cell_type": "markdown",
      "metadata": {
        "id": "yRhBXKyJ2mfk"
      },
      "source": [
        "We have shown that Python can be used as a calculator! Python uses many of the mathematical operators that we are already familiar with: \n",
        "<br><br>\n",
        "Mathematical Operations in Python: \n",
        "<br>\n",
        "\n",
        "\n",
        "|Mathematical Operation  | Symbol |   \n",
        "|---                     |   ---  |\n",
        "| Addition               |    +   |  \n",
        "| Subtraction            |    -   |   \n",
        "| Multiplication         |    *   |   \n",
        "| Division               |    /   |   \n",
        "\n",
        "<br>\n",
        "\n",
        "As a next step try writing out mathematical expression using all four of these mathematical operations and your favorite and least favorite number. \n",
        "\n",
        "**Question:** Mathematically what is the the answer to your equation?\n",
        "\n",
        "**Answers:**\n",
        "\n",
        "???"
      ]
    },
    {
      "cell_type": "code",
      "execution_count": 4,
      "metadata": {
        "code_folding": [],
        "colab": {
          "base_uri": "https://localhost:8080/"
        },
        "id": "athaR8wD2mfl",
        "outputId": "e5e970fc-faa0-44ce-c561-159e9ef60512"
      },
      "outputs": [
        {
          "data": {
            "text/plain": [
              "21.333333333333332"
            ]
          },
          "execution_count": 4,
          "metadata": {},
          "output_type": "execute_result"
        }
      ],
      "source": [
        "# Write out an expression using all 4 mathematical operations\n",
        "# EX: 10 *2 + (7-3)/2 \n",
        "8+8/3*5"
      ]
    },
    {
      "cell_type": "markdown",
      "metadata": {
        "id": "fqQScPe_M4ur"
      },
      "source": [
        "We have seen that Python can be used as a calculator to solve out math problems! What we have done above is write *programs* which Python evaluates and gives us a result. Next we will explore how we can use variables to perform more complicated tasks. "
      ]
    },
    {
      "cell_type": "markdown",
      "metadata": {
        "id": "MzsaiT6A2mfr"
      },
      "source": [
        "<br><hr style=\"border: 0.5px solid#C4C4C4;\" /><br>\n",
        "## 2) Variables\n",
        "\n",
        "We can create variables, ways of storing our data, which we can call for future reference to simplify our programs. Let's try the same exercises as above, but this time we will define and use variables for our favorite and least favorite numbers. \n",
        "\n"
      ]
    },
    {
      "cell_type": "code",
      "execution_count": 5,
      "metadata": {
        "colab": {
          "base_uri": "https://localhost:8080/"
        },
        "id": "znLqDiAVOXGF",
        "outputId": "0f25bf72-af59-4189-92e9-b6b047805bca"
      },
      "outputs": [
        {
          "name": "stdout",
          "output_type": "stream",
          "text": [
            "My favorite number is 9\n"
          ]
        }
      ],
      "source": [
        "# Define your favorite number as fav_num\n",
        "# EX: fav_num = 10\n",
        "\n",
        "fav_num = 9\n",
        "\n",
        "#The print command is used to dispay the contents of a variable\n",
        "print(\"My favorite number is\", fav_num)"
      ]
    },
    {
      "cell_type": "code",
      "execution_count": 6,
      "metadata": {
        "colab": {
          "base_uri": "https://localhost:8080/"
        },
        "id": "VdTK0t5_OzaN",
        "outputId": "6424176c-58f8-4196-b520-88df5d8d577b"
      },
      "outputs": [
        {
          "name": "stdout",
          "output_type": "stream",
          "text": [
            "Least Favorite Number = 3\n",
            "Sum of Favorite and Least Favorite =  12\n"
          ]
        }
      ],
      "source": [
        "# Define a new variable for your least favorite number as lea_num\n",
        "# Perform a summation between your favorite and least favorite number using variables \n",
        "# EX: lea_num = 7; \n",
        "\n",
        "lea_num =  3\n",
        "sum = fav_num + lea_num\n",
        "\n",
        "print(\"Least Favorite Number =\", lea_num)\n",
        "print(\"Sum of Favorite and Least Favorite = \", sum)"
      ]
    },
    {
      "cell_type": "markdown",
      "metadata": {
        "id": "lufsisX_QBhx"
      },
      "source": [
        "Variables allow you to store information which can be used again whenever you type out that variable. Just as we saw with numbers you can also perform arthimethic operations on variables. "
      ]
    },
    {
      "cell_type": "markdown",
      "metadata": {
        "id": "vI5IW6wKY_sO"
      },
      "source": [
        "<br><hr style=\"border: 0.5px solid#C4C4C4;\" /><br>\n",
        "## 3) String and Lists\n",
        "\n",
        "As mentioned previously python works with many data types and one of these are strings. By putting characters between double quotes: \" \" \n",
        "you can create strings to store text. \n",
        "\n",
        "EX: ```\"Hello World\"```\n",
        "\n",
        "<br><br>\n",
        "Lists are another data type in python. Lists are created using square brackets `[ ]` and are used to store multiple items in a single variable. \n",
        "\n",
        "\n",
        "EX: ```colors = [\"red\", \"green\", \"blue\"]```\n",
        "\n",
        "\n",
        "In the code cells below, we will:\n",
        "+ Use strings to write out your name and favorite color and store them as variables.\n",
        "+ Manipulate strings\n",
        "+ Create a list using numbers and strings\n",
        "\n",
        "\n",
        "\n"
      ]
    },
    {
      "cell_type": "code",
      "execution_count": 7,
      "metadata": {
        "colab": {
          "base_uri": "https://localhost:8080/"
        },
        "id": "IXDRvKV0fuvE",
        "outputId": "c8ddbda5-ead8-4d6b-907c-efe7da962ec1"
      },
      "outputs": [
        {
          "name": "stdout",
          "output_type": "stream",
          "text": [
            "name =  cynthia\n",
            "fav_color = green\n"
          ]
        }
      ],
      "source": [
        "# Use \"\" to write your name and favorite color\n",
        "# Store your name in a variable called name \n",
        "# Create a variable called fav_color to store your favorite color\n",
        "\n",
        "name = \"cynthia\"\n",
        "\n",
        "fav_color = \"green\"\n",
        "\n",
        "print(\"name = \", name)\n",
        "print(\"fav_color =\", fav_color)\n"
      ]
    },
    {
      "cell_type": "code",
      "execution_count": 8,
      "metadata": {
        "colab": {
          "base_uri": "https://localhost:8080/"
        },
        "id": "cmlqXqvtgCVV",
        "outputId": "4b339523-8834-4be5-eadf-bddb4cf56b62"
      },
      "outputs": [
        {
          "name": "stdout",
          "output_type": "stream",
          "text": [
            "cynthia, green\n"
          ]
        }
      ],
      "source": [
        "# Combine your name and favorite color into one variable, let's call this\n",
        "# variable: name_color\n",
        "\n",
        "name_color = name + ', ' + fav_color\n",
        "\n",
        "print(name_color)\n"
      ]
    },
    {
      "cell_type": "markdown",
      "metadata": {
        "id": "3GupMSPhg1rb"
      },
      "source": [
        "Just like numbers, we are able to store strings as variables. Strings can also be manipulated in similar ways to numbers. \n",
        "\n",
        "\n",
        "\n",
        "\n"
      ]
    },
    {
      "cell_type": "code",
      "execution_count": 9,
      "metadata": {
        "colab": {
          "base_uri": "https://localhost:8080/"
        },
        "id": "s6ZDDc-XhEs-",
        "outputId": "feccc71e-160d-487e-bc5f-37f48c32c90a"
      },
      "outputs": [
        {
          "name": "stdout",
          "output_type": "stream",
          "text": [
            "['bread', 'apple', 'cynthia', 'green', 'pizza']\n"
          ]
        }
      ],
      "source": [
        "# Using [] create and store a list that includes the following: \n",
        "# - 3 foods\n",
        "# - your name       HINT: (use a variable)\n",
        "# - favorite number HINT: (use a variable)\n",
        "\n",
        "#Store this list as a variable called: my_list\n",
        "\n",
        "my_list = [\"bread\", \"apple\", name, fav_color, \"pizza\"]\n",
        "print(my_list)"
      ]
    },
    {
      "cell_type": "markdown",
      "metadata": {
        "id": "neRLoBl9i9m2"
      },
      "source": [
        "List are a good way to store lots of information within one variable. In the code cell above, we created a list that contained both numbers and strings. "
      ]
    },
    {
      "cell_type": "markdown",
      "metadata": {
        "id": "9OX8ynf3bh3Y"
      },
      "source": [
        "<br><hr style=\"border: 0.5px solid#C4C4C4;\" /><br>\n",
        "## 4) Conditionals\n",
        "\n",
        "The heart of any program is logic. It's what makes Python more than just a glorified calculator.\n",
        "\n",
        "Using the `if` and `else` keywords, it's possible to write two sections of code, and have the program choose which to run based on a condition.\n",
        "\n",
        "For instance, a conditional could be used to print a different message based on the user's age.\n",
        "\n"
      ]
    },
    {
      "cell_type": "code",
      "execution_count": 10,
      "metadata": {
        "colab": {
          "base_uri": "https://localhost:8080/"
        },
        "id": "zJEdomIvfPUR",
        "outputId": "e644ccc6-579d-41cb-c9a7-d2a33b3bb073"
      },
      "outputs": [
        {
          "name": "stdout",
          "output_type": "stream",
          "text": [
            "Drive safe!\n"
          ]
        }
      ],
      "source": [
        "age = 18\n",
        "if age >= 16:\n",
        "  print(\"Drive safe!\")\n",
        "else:\n",
        "  print(\"Bike safe!\")"
      ]
    },
    {
      "cell_type": "markdown",
      "metadata": {
        "id": "NBbXLLEGr2AM"
      },
      "source": [
        "This can be combined with `input()` to create an interactive program!\n",
        "\n",
        "(Note that `int()` is used with `input()` to convert text to a whole number.)"
      ]
    },
    {
      "cell_type": "code",
      "execution_count": 11,
      "metadata": {
        "colab": {
          "base_uri": "https://localhost:8080/"
        },
        "id": "eNHDKTSKuJCH",
        "outputId": "8330c074-a128-492b-fd27-191837556469"
      },
      "outputs": [
        {
          "name": "stdout",
          "output_type": "stream",
          "text": [
            "The number is positive.\n"
          ]
        }
      ],
      "source": [
        "num = int(input(\"Enter a number: \"))\n",
        "if num < 0:\n",
        "  print(\"The number is negative.\")\n",
        "else:\n",
        "  print(\"The number is positive.\")"
      ]
    },
    {
      "cell_type": "markdown",
      "metadata": {
        "id": "uJRdVPmubiJR"
      },
      "source": [
        "<br><hr style=\"border: 0.5px solid#C4C4C4;\" /><br>\n",
        "## 5) Loops\n",
        "\n",
        "Let's say you had your birthday in 10 days and you wanted to count down the number of days until your birthday. Based on what you have learned so far, you would do something like..."
      ]
    },
    {
      "cell_type": "code",
      "execution_count": 12,
      "metadata": {
        "colab": {
          "base_uri": "https://localhost:8080/"
        },
        "id": "SXvssUgrfsxX",
        "outputId": "65ddc558-8dae-4e3d-9aed-57a892ceda9d"
      },
      "outputs": [
        {
          "name": "stdout",
          "output_type": "stream",
          "text": [
            "10 days until my birthday\n",
            "9 days until my birthday\n",
            "8 days until my birthday\n",
            "7 days until my birthday\n",
            "6 days until my birthday\n",
            "5 days until my birthday\n",
            "4 days until my birthday\n",
            "3 days until my birthday\n",
            "2 days until my birthday\n",
            "1 days until my birthday\n",
            "0 days until my birthday\n"
          ]
        }
      ],
      "source": [
        "print(\"10 days until my birthday\")\n",
        "print(\"9 days until my birthday\")\n",
        "print(\"8 days until my birthday\")\n",
        "print(\"7 days until my birthday\")\n",
        "print(\"6 days until my birthday\")\n",
        "print(\"5 days until my birthday\")\n",
        "print(\"4 days until my birthday\")\n",
        "print(\"3 days until my birthday\")\n",
        "print(\"2 days until my birthday\")\n",
        "print(\"1 days until my birthday\")\n",
        "print(\"0 days until my birthday\")"
      ]
    },
    {
      "cell_type": "markdown",
      "metadata": {
        "id": "i5eG71bVfvnu"
      },
      "source": [
        "However, you have a soccer match in a few minutes and you don't have time to write and copy paste the same code again and again. Imagine if there were 100 days until your birthday :o You can see how this can be really irritation and tiring!\n",
        "\n",
        "And hence, we have loops to the rescue :)\n",
        "\n",
        "A loop is a shape that has no end. Think about a circular playground. This playground has an entry and an exit point somewhere along its edge. You decide to put in some exercise and start jogging along the playground's edge. You have two options now: in the beginning, when you are really energetic, you will keep circling around the playground, but once you are tired, you will stop and exit through the exit gate.\n",
        "\n",
        "Loops are really interesting and helpful because you can let the program perform a certain task repeatedly on its own until it reaches a point where it stops because the condition which made it keep looping is no longer true.\n",
        "\n",
        "There are different kinds of loops, but we will mainly focus on the `while` loop in this class.\n",
        "\n",
        "Look at the code snippet below..."
      ]
    },
    {
      "cell_type": "code",
      "execution_count": 13,
      "metadata": {
        "colab": {
          "base_uri": "https://localhost:8080/"
        },
        "id": "wyxkRoGmfP5k",
        "outputId": "b738e34b-caef-4290-ce90-b8c9fb534ff4"
      },
      "outputs": [
        {
          "name": "stdout",
          "output_type": "stream",
          "text": [
            "10 days until my birthday\n",
            "9 days until my birthday\n",
            "8 days until my birthday\n",
            "7 days until my birthday\n",
            "6 days until my birthday\n",
            "5 days until my birthday\n",
            "4 days until my birthday\n",
            "3 days until my birthday\n",
            "2 days until my birthday\n",
            "1 days until my birthday\n",
            "0 days until my birthday\n"
          ]
        }
      ],
      "source": [
        "days_until_birthday = 10\n",
        "\n",
        "while (days_until_birthday >= 0):\n",
        "    print(days_until_birthday, \"days until my birthday\")\n",
        "    days_until_birthday = days_until_birthday - 1"
      ]
    },
    {
      "cell_type": "markdown",
      "metadata": {
        "id": "eRwrx1h6hRVr"
      },
      "source": [
        "Whoa! What just happened? Instead of having to write 100 lines of code, I can just change `days_until_birthday` from `10` to `100`, and the same 4 lines of code will do what I want to do. Isn't this sick?\n",
        "\n",
        "What the `while` loop did was:\n",
        " - It initially knows that there are 10 days until birthday because of the `days_until_birthday` variable.\n",
        " - It then goes to the `while` loop, which says, \"while `days_until_birthday` is greater than or equal to 0, do whatever is written inside me\". `days_until_birthday = 10`, so we print it out and we decrement (subtract 1 from) `days_until_birthday`. Now, `days_until_birthday = 9`.\n",
        " - We go back to the `while` loop and check, \"while `days_until_birthday` is greater than or equal to 0, do whatever is written inside me\". `days_until_birthday = 9`, so we print it out and we decrement (subtract 1 from) `days_until_birthday`. Now, `days_until_birthday = 8`.\n",
        " - We go back to the `while` loop and check, \"while `days_until_birthday` is greater than or equal to 0, do whatever is written inside me\". `days_until_birthday = 8`, so we print it out and we decrement (subtract 1 from) `days_until_birthday`. Now, `days_until_birthday = 7`.\n",
        " - We keep doing this until `days_until_birthday = 0`.\n",
        " - We go back to the `while` loop and check, \"while `days_until_birthday` is greater than or equal to 0, do whatever is written inside me\". `days_until_birthday = 0` which is greater than OR EQUAL TO 0, so we print it out and we decrement (subtract 1 from) `days_until_birthday`. Now, `days_until_birthday = -1`.\n",
        " - We go back to the `while` loop and check, \"while `days_until_birthday` is greater than or equal to 0, do whatever is written inside me\". `days_until_birthday = -1`, which is NOT greater than or equal to 0. It is LESS than 0. The condition in the `while` loop is violated. And we stop.\n",
        "\n",
        "\n",
        " I know... I know... you have become experts in `while` loops now... Here is another code snippet. Try to find out what the condition inside the `while` loop should be for the code to print out 5 negative integers greater than -6."
      ]
    },
    {
      "cell_type": "code",
      "execution_count": 14,
      "metadata": {
        "colab": {
          "base_uri": "https://localhost:8080/"
        },
        "id": "VEKxasXDjjIE",
        "outputId": "38791df7-5aff-4c92-f473-55ba8f8790d6"
      },
      "outputs": [
        {
          "name": "stdout",
          "output_type": "stream",
          "text": [
            "-5\n",
            "-4\n",
            "-3\n",
            "-2\n",
            "-1\n"
          ]
        }
      ],
      "source": [
        "# Your code should print out -5, -4, -3, -2, and -1\n",
        "\n",
        "num = -5\n",
        "\n",
        "while (num != 0):\n",
        "    print(num)\n",
        "    num += 1"
      ]
    },
    {
      "cell_type": "markdown",
      "metadata": {
        "id": "mZ01aGzW2mf5"
      },
      "source": [
        "<br><hr style=\"border: 0.5px solid#C4C4C4;\" /><br>\n",
        "## 6) Functions\n",
        "\n",
        "Python and other programming languages have uses beyond simple arthimetic computation. More complex functionalities come in the form of functions. Many progamming languages have **built-in functions**. To execute a function you write the name of the function followed by `()`. A function is provided inputs within the `()`. \n",
        "\n",
        "We will explore the following functions: \n",
        "<br>\n",
        "\n",
        "*   `print()`: prints a specified message to the screen\n",
        "*   `shuffle()`: shuffles a list\n",
        "*   `max()`: Returns the maximum value between 2 or more values\n",
        "*   `min()`: Returns the smallest value between 2 or more values\n",
        "* `append()`: adds an item to the end of the list\n",
        "\n",
        "\n",
        "\n",
        "\n",
        "\n",
        " \n",
        "\n",
        "\n"
      ]
    },
    {
      "cell_type": "code",
      "execution_count": 15,
      "metadata": {
        "colab": {
          "base_uri": "https://localhost:8080/"
        },
        "id": "Z6OFw-e0WItK",
        "outputId": "14f9ea55-9642-46cc-fc3d-cd0c547d141a"
      },
      "outputs": [
        {
          "name": "stdout",
          "output_type": "stream",
          "text": [
            "[1, 2, 3, 4, 5]\n",
            "My number list [1, 2, 3, 4, 5]\n"
          ]
        }
      ],
      "source": [
        "# Create and store a list of numbers 1 through 5 as a variable called: num_list\n",
        "\n",
        "num = 1\n",
        "\n",
        "num_list = []\n",
        "while (num != 6):\n",
        "    num_list.append(num)\n",
        "    num += 1\n",
        "    \n",
        "# Print your list of numbers 1 through 5. \n",
        "print(num_list)\n",
        "\n",
        "# Before your number list print \"My number list = \"\n",
        "print(\"My number list\", num_list)\n",
        "\n"
      ]
    },
    {
      "cell_type": "markdown",
      "metadata": {
        "id": "Rt6jc068YpwM"
      },
      "source": [
        "We can manipulate lists in different ways. The shuffle function allows you to randomly reorganize the order of items within an existing list. \n",
        "\n",
        "\n",
        "```\n",
        "#Example\n",
        "numbers = [0,1,2,3,4]\n",
        "shuffle(numbers)\n",
        "```\n",
        "\n"
      ]
    },
    {
      "cell_type": "code",
      "execution_count": 16,
      "metadata": {
        "colab": {
          "base_uri": "https://localhost:8080/"
        },
        "id": "eRNkbYbEk0LA",
        "outputId": "0ceb15f3-fb56-48ce-9764-ba45cc9fe753"
      },
      "outputs": [
        {
          "name": "stdout",
          "output_type": "stream",
          "text": [
            "Original List: [1, 2, 3, 4, 5]\n",
            "Shuffled list: [1, 5, 3, 2, 4]\n"
          ]
        }
      ],
      "source": [
        "# Using the shuffle function shuffle your number list \n",
        "\n",
        "original_list = num_list\n",
        "\n",
        "#Print your original list\n",
        "print(\"Original List:\", original_list)\n",
        "\n",
        "random.shuffle(num_list)\n",
        "\n",
        "#Print your shuffled list\n",
        "print(\"Shuffled list:\", num_list)\n"
      ]
    },
    {
      "cell_type": "markdown",
      "metadata": {
        "id": "DEaDWdjGm003"
      },
      "source": [
        "We can also use functions to find specific information about a list. If we have a list of 100 numbers we can use the max() and min() functions to find the greatest and smallest numbers. "
      ]
    },
    {
      "cell_type": "code",
      "execution_count": 17,
      "metadata": {
        "colab": {
          "base_uri": "https://localhost:8080/"
        },
        "id": "PJfb8K9XYGbO",
        "outputId": "0f56390e-37b9-4e3b-f15f-e54e67ca85d0"
      },
      "outputs": [
        {
          "name": "stdout",
          "output_type": "stream",
          "text": [
            "[5, 12, 25, 4, 16, 3, 9, 10, 3, 19, 8, 27, 9, 18, 28, 4, 19, 18, 19, 23, 7, 1, 1, 2, 1, 1, 27, 10, 10, 10, 8, 10, 21, 19, 28, 22, 27, 16, 8, 10, 26, 12, 28, 12, 25, 6, 19, 5, 19, 12, 25, 23, 6, 17, 6, 28, 18, 14, 2, 16, 30, 23, 17, 2, 26, 21, 18, 5, 17, 19, 6, 10, 8, 15, 25, 16, 23, 17, 1, 18, 15, 23, 3, 16, 10, 6, 15, 3, 13, 15, 25, 26, 17, 20, 9, 1, 14, 26, 1, 11]\n",
            "The largest number is 30\n",
            "The smallest number is 1\n"
          ]
        }
      ],
      "source": [
        "# Create list of 100 numbers\n",
        "randomlist = []\n",
        "for i in range(0,100):\n",
        "  hundred_num = random.randint(1,30)\n",
        "  randomlist.append(hundred_num)\n",
        "print(randomlist)\n",
        "\n",
        "#Find and print the largest number in the list hundred_num\n",
        "MAX = max(randomlist)\n",
        "print(\"The largest number is\", MAX)\n",
        "\n",
        "\n",
        "#Find and print the smallest number in the list hundred_num\n",
        "MIN = min(randomlist)\n",
        "print(\"The smallest number is\", MIN)\n"
      ]
    },
    {
      "cell_type": "markdown",
      "metadata": {
        "id": "9MZaRVF1n7yw"
      },
      "source": [
        "Often times we are dealign with a large quantity of numbers and it may take a long time to manually identify the largest and smallest number. By using the max() and min() functions we are able to quickly analyze data. "
      ]
    },
    {
      "cell_type": "markdown",
      "metadata": {
        "collapsed": true,
        "id": "s2lxR7ky2mf6"
      },
      "source": [
        "<br><hr style=\"border: 0.5px solid#C4C4C4;\" /><br>\n",
        "## 7) Practice Problems\n",
        "\n",
        "Now that we have learned about mathematical operations, variables, strings, lists, and functions lets try to use python to solve some problems. "
      ]
    },
    {
      "cell_type": "markdown",
      "metadata": {
        "id": "6M4v6Mbj2mf-"
      },
      "source": [
        "<br>\n",
        "\n",
        "### You wake up in the morning and are getting ready to come to school, but you need to make choices on: \n",
        "+ a) What to do first\n",
        "+ b) What to wear\n",
        "+ c) What to eat\n",
        "\n",
        "\n",
        "\n",
        "**Tip:** Create separate lists for each category. \n"
      ]
    },
    {
      "cell_type": "markdown",
      "metadata": {
        "id": "meObLWQF2mf_"
      },
      "source": [
        "<br>\n",
        "\n",
        "#### 7.1) What do you do first?\n",
        "Create a list of the following: \n",
        "+ Make your bed\n",
        "+ Brush teeth\n",
        "+ Eat Breakfast\n",
        "+ Get dressed\n",
        "\n",
        "and use a function to **shuffle** and determine the order in which you should do your morning tasks.\n"
      ]
    },
    {
      "cell_type": "code",
      "execution_count": 18,
      "metadata": {
        "colab": {
          "base_uri": "https://localhost:8080/"
        },
        "id": "FHx5-2BOqOIO",
        "outputId": "5fd969e5-a5b0-40af-ca8c-7783094f12e9"
      },
      "outputs": [
        {
          "name": "stdout",
          "output_type": "stream",
          "text": [
            "My morning tasks are: ['Make my Bed', 'Eat Breakfast', 'Get Dressed', 'Brush Teeth']\n"
          ]
        }
      ],
      "source": [
        "# Create a list as a variable morning_tasks\n",
        "morning_tasks = ['Make my Bed', 'Brush Teeth', 'Eat Breakfast', 'Get Dressed']\n",
        "\n",
        "#Use a function to rearrange your list order\n",
        "random.shuffle(morning_tasks)\n",
        "\n",
        "#Print the order in which you should do your morning tasks\n",
        "print(\"My morning tasks are:\", morning_tasks)"
      ]
    },
    {
      "cell_type": "markdown",
      "metadata": {
        "id": "ylQzkvCi2mgA"
      },
      "source": [
        "<br>\n",
        "\n",
        "#### 7.2) You are now getting dressed but can't decide what color clothes to wear?\n",
        "Create 3 lists of the following categories: \n",
        "+ Top\n",
        "  - Blue, Red, Green, Yellow, Purple, White, Black, Pink\n",
        "\n",
        "+ Bottom\n",
        "  - Blue, Red, Green, Yellow, Purple, White, Black, Pink\n",
        "\n",
        "+ Shoes\n",
        " - Blue, Red, Green, Yellow, Purple, White, Black, Pink\n",
        "\n",
        "Use a function to determine which color you should wear for each part of your outfit to school.\n"
      ]
    },
    {
      "cell_type": "code",
      "execution_count": 19,
      "metadata": {
        "colab": {
          "base_uri": "https://localhost:8080/"
        },
        "id": "XSkKkIBorUwp",
        "outputId": "eedd6fa0-f69d-4e8b-f994-e669894d886c"
      },
      "outputs": [
        {
          "name": "stdout",
          "output_type": "stream",
          "text": [
            "My Top is: Blue\n",
            "My bottom is: Checkers\n",
            "My shoes are: Running Shoes\n"
          ]
        }
      ],
      "source": [
        "#Create a List for Tops \n",
        "tops = ['Blue', 'Red', 'Green', 'Yellow', 'Purple', 'White', 'Black', 'Pink']\n",
        "\n",
        "#Create a List fot Bottoms\n",
        "bottoms = ['Cyan', 'Orange', 'Green', 'Checkers', 'Purple', 'Stripes', 'Black', 'Pink']\n",
        "\n",
        "#Create a List for Shoes\n",
        "shoes = ['Sandals', 'Running Shoes', 'Crocs']\n",
        "\n",
        "random.shuffle(tops)\n",
        "random.shuffle(bottoms)\n",
        "random.shuffle(shoes)\n",
        "\n",
        "print(\"My Top is:\", tops[0])\n",
        "print(\"My bottom is:\", bottoms[0])\n",
        "print(\"My shoes are:\", shoes[0])\n",
        "\n"
      ]
    },
    {
      "cell_type": "markdown",
      "metadata": {
        "id": "U_zF-muE2mgB"
      },
      "source": [
        "<br>\n",
        "\n",
        "#### 7.3) You are getting ready to eat, but are also indecisive on what you want to eat. Running out of time you want to randomly select what to eat for breakfast. \n",
        "Create a lists of five foods, you can pick any five foods. Create a list for your five foods and use a function to determine what food you will eat. "
      ]
    },
    {
      "cell_type": "code",
      "execution_count": 20,
      "metadata": {
        "colab": {
          "base_uri": "https://localhost:8080/"
        },
        "id": "q9NfBlQ-tLgo",
        "outputId": "f0f280cc-c4ad-44f5-969e-2e66d8112917"
      },
      "outputs": [
        {
          "name": "stdout",
          "output_type": "stream",
          "text": [
            "My breakfast is: milk\n"
          ]
        }
      ],
      "source": [
        "# Create list of five foods\n",
        "food = ['cereal', 'toast', 'oatmeal', 'eggs', 'milk' ]\n",
        "\n",
        "# Randomly select a food \n",
        "random.shuffle(food)\n",
        "\n",
        "# Print the food you will be eating for breakfast\n",
        "print(\"My breakfast is:\", food[0])"
      ]
    },
    {
      "cell_type": "markdown",
      "metadata": {
        "id": "OB_t7lR8Pm9T"
      },
      "source": [
        "## 8) Making a Drawing using Turtle"
      ]
    },
    {
      "cell_type": "markdown",
      "metadata": {
        "id": "acVfYEhyX2aJ"
      },
      "source": [
        "## What is Turtle (ColabTurtle)\n",
        "\n",
        "\n",
        "Turtle was part of the original Logo programming language!! You can imagine a turtle which is drawing out the path which it travels on. Colab Turtle makes use of functions to perform tasks, some of which we will be using below. \n",
        "\n",
        "Turtle Functions Move and Draw: \n",
        "<br>\n",
        "\n",
        "|Function| Code |   \n",
        "|---                     |   ---      |\n",
        "| Move forward           |  forward() | \n",
        "| Move Right             |  right()   |\n",
        "| Move Left              |    left()  |   \n",
        "| Movement Speed         |    speed() |   \n",
        "\n",
        "Turtle Functions For The Pen: \n",
        "<br>\n",
        "\n",
        "\n",
        "|Function| Code |   \n",
        "|---                     |   ---      |\n",
        "| Move the Pen Down      | pendown()  | \n",
        "| Move the Pen Up        | penup()    |\n",
        " "
      ]
    },
    {
      "cell_type": "markdown",
      "metadata": {},
      "source": [
        "# Some Fun Turtle Code"
      ]
    },
    {
      "cell_type": "markdown",
      "metadata": {},
      "source": [
        "#### A) Rainbow Benzene"
      ]
    },
    {
      "cell_type": "code",
      "execution_count": 1,
      "metadata": {},
      "outputs": [
        {
          "data": {
            "text/plain": [
              "''"
            ]
          },
          "execution_count": 1,
          "metadata": {},
          "output_type": "execute_result"
        },
        {
          "ename": "",
          "evalue": "",
          "output_type": "error",
          "traceback": [
            "\u001b[1;31mThe Kernel crashed while executing code in the the current cell or a previous cell. Please review the code in the cell(s) to identify a possible cause of the failure. Click <a href='https://aka.ms/vscodeJupyterKernelCrash'>here</a> for more info. View Jupyter <a href='command:jupyter.viewOutput'>log</a> for further details."
          ]
        }
      ],
      "source": [
        "# Python program to draw\n",
        "# Rainbow Benzene\n",
        "# using Turtle Programming\n",
        "import turtle\n",
        "colors = ['red', 'purple', 'blue', 'green', 'orange', 'yellow']\n",
        "t = turtle.Pen()\n",
        "turtle.bgcolor('black')\n",
        "turtle.speed(7)\n",
        "for x in range(160):\n",
        "    t.pencolor(colors[x%6])\n",
        "    t.width(x//100 + 1)\n",
        "    t.forward(x)\n",
        "    t.left(59)\n"
      ]
    },
    {
      "cell_type": "markdown",
      "metadata": {},
      "source": [
        "#### B) Chess Board"
      ]
    },
    {
      "cell_type": "code",
      "execution_count": 10,
      "metadata": {},
      "outputs": [],
      "source": [
        "sc = turtle.Screen()\n",
        "cb = turtle.Turtle()\n",
        "\n",
        "# method to draw square\n",
        "def draw():\n",
        "    for i in range(4):\n",
        "        cb.forward(30)\n",
        "        cb.left(90)\n",
        "\n",
        "    cb.forward(30)\n",
        "\n",
        "# Driver Code\n",
        "if __name__ == \"__main__\":\n",
        "\n",
        "    # set the size of the window\n",
        "    sc.setup(400, 600)\n",
        "\n",
        "    # set turtle object speed\n",
        "    cb.speed(100)\n",
        "\n",
        "    # loops for board\n",
        "    for i in range(8):\n",
        "\n",
        "        # define when to bring the pen up (when not to draw)\n",
        "        cb.up()\n",
        "\n",
        "        # set position for every row\n",
        "        cb.setpos(-100, 30 * i)\n",
        "\n",
        "        # ready to draw\n",
        "        cb.down()\n",
        "\n",
        "        # row\n",
        "        for j in range(8):\n",
        "\n",
        "            # conditions for alternative color\n",
        "            if (i + j) % 2 == 0:\n",
        "                col = 'black'\n",
        "\n",
        "            else:\n",
        "                col = 'red'\n",
        "\n",
        "            # fill with given color\n",
        "            cb.fillcolor(col)\n",
        "\n",
        "            # start filling with color\n",
        "            cb.begin_fill()\n",
        "\n",
        "            # call method\n",
        "            draw()\n",
        "            # stop filling\n",
        "            cb.end_fill()\n",
        "\n",
        "            # hide the turtle\n",
        "    cb.hideturtle()\n",
        "    turtle.done()\n"
      ]
    },
    {
      "cell_type": "markdown",
      "metadata": {},
      "source": [
        "#### C) Heart Shape"
      ]
    },
    {
      "cell_type": "code",
      "execution_count": null,
      "metadata": {},
      "outputs": [],
      "source": [
        "wn = turtle.Screen()\n",
        "wn.setup(width=400, height=400)\n",
        "red = turtle.Turtle() # Assigning \"Red\" as name of the turtle\n",
        "\n",
        "def curve(): # Method to draw curve\n",
        "    for i in range(200): # To draw the curve step by step\n",
        "        red.right(1)\n",
        "        red.forward(1)\n",
        "\n",
        "def heart():  # Method to draw full Heart\n",
        "    red.fillcolor('red')\n",
        "    red.begin_fill()\n",
        "    red.left(140)\n",
        "    red.forward(113)\n",
        "    curve() # Left Curve\n",
        "    red.left(120)\n",
        "    curve() # Right Curve\n",
        "    red.forward(112)\n",
        "    red.end_fill()\n",
        "\n",
        "heart()\n",
        "red.ht() # Hiding Turtle\n",
        "turtle.done()"
      ]
    },
    {
      "cell_type": "markdown",
      "metadata": {},
      "source": [
        "#### D) Pikachu"
      ]
    },
    {
      "cell_type": "code",
      "execution_count": 21,
      "metadata": {},
      "outputs": [
        {
          "name": "stdout",
          "output_type": "stream",
          "text": [
            "Painting the Pikachu... \n"
          ]
        },
        {
          "ename": "Terminator",
          "evalue": "",
          "output_type": "error",
          "traceback": [
            "\u001b[1;31m---------------------------------------------------------------------------\u001b[0m",
            "\u001b[1;31mTerminator\u001b[0m                                Traceback (most recent call last)",
            "\u001b[1;32mc:\\Users\\maldo\\OneDrive\\Documents\\GitHub\\Python_Workshops\\Workshops\\[Answer_Key]_NovaSperoxTBPWorkshop_1.ipynb Cell 55\u001b[0m in \u001b[0;36m<cell line: 541>\u001b[1;34m()\u001b[0m\n\u001b[0;32m    <a href='vscode-notebook-cell:/c%3A/Users/maldo/OneDrive/Documents/GitHub/Python_Workshops/Workshops/%5BAnswer_Key%5D_NovaSperoxTBPWorkshop_1.ipynb#Y110sZmlsZQ%3D%3D?line=537'>538</a>\u001b[0m     turtle\u001b[39m.\u001b[39mmainloop()\n\u001b[0;32m    <a href='vscode-notebook-cell:/c%3A/Users/maldo/OneDrive/Documents/GitHub/Python_Workshops/Workshops/%5BAnswer_Key%5D_NovaSperoxTBPWorkshop_1.ipynb#Y110sZmlsZQ%3D%3D?line=540'>541</a>\u001b[0m \u001b[39mif\u001b[39;00m \u001b[39m__name__\u001b[39m \u001b[39m==\u001b[39m \u001b[39m'\u001b[39m\u001b[39m__main__\u001b[39m\u001b[39m'\u001b[39m:\n\u001b[1;32m--> <a href='vscode-notebook-cell:/c%3A/Users/maldo/OneDrive/Documents/GitHub/Python_Workshops/Workshops/%5BAnswer_Key%5D_NovaSperoxTBPWorkshop_1.ipynb#Y110sZmlsZQ%3D%3D?line=541'>542</a>\u001b[0m     main()\n",
            "\u001b[1;32mc:\\Users\\maldo\\OneDrive\\Documents\\GitHub\\Python_Workshops\\Workshops\\[Answer_Key]_NovaSperoxTBPWorkshop_1.ipynb Cell 55\u001b[0m in \u001b[0;36mmain\u001b[1;34m()\u001b[0m\n\u001b[0;32m    <a href='vscode-notebook-cell:/c%3A/Users/maldo/OneDrive/Documents/GitHub/Python_Workshops/Workshops/%5BAnswer_Key%5D_NovaSperoxTBPWorkshop_1.ipynb#Y110sZmlsZQ%3D%3D?line=533'>534</a>\u001b[0m wn \u001b[39m=\u001b[39m turtle\u001b[39m.\u001b[39mScreen()\n\u001b[0;32m    <a href='vscode-notebook-cell:/c%3A/Users/maldo/OneDrive/Documents/GitHub/Python_Workshops/Workshops/%5BAnswer_Key%5D_NovaSperoxTBPWorkshop_1.ipynb#Y110sZmlsZQ%3D%3D?line=534'>535</a>\u001b[0m wn\u001b[39m.\u001b[39msetup(width\u001b[39m=\u001b[39m\u001b[39m600\u001b[39m, height\u001b[39m=\u001b[39m\u001b[39m800\u001b[39m)\n\u001b[1;32m--> <a href='vscode-notebook-cell:/c%3A/Users/maldo/OneDrive/Documents/GitHub/Python_Workshops/Workshops/%5BAnswer_Key%5D_NovaSperoxTBPWorkshop_1.ipynb#Y110sZmlsZQ%3D%3D?line=535'>536</a>\u001b[0m pikachu \u001b[39m=\u001b[39m Pikachu()\n\u001b[0;32m    <a href='vscode-notebook-cell:/c%3A/Users/maldo/OneDrive/Documents/GitHub/Python_Workshops/Workshops/%5BAnswer_Key%5D_NovaSperoxTBPWorkshop_1.ipynb#Y110sZmlsZQ%3D%3D?line=536'>537</a>\u001b[0m pikachu\u001b[39m.\u001b[39mstart()\n\u001b[0;32m    <a href='vscode-notebook-cell:/c%3A/Users/maldo/OneDrive/Documents/GitHub/Python_Workshops/Workshops/%5BAnswer_Key%5D_NovaSperoxTBPWorkshop_1.ipynb#Y110sZmlsZQ%3D%3D?line=537'>538</a>\u001b[0m turtle\u001b[39m.\u001b[39mmainloop()\n",
            "\u001b[1;32mc:\\Users\\maldo\\OneDrive\\Documents\\GitHub\\Python_Workshops\\Workshops\\[Answer_Key]_NovaSperoxTBPWorkshop_1.ipynb Cell 55\u001b[0m in \u001b[0;36mPikachu.__init__\u001b[1;34m(self)\u001b[0m\n\u001b[0;32m     <a href='vscode-notebook-cell:/c%3A/Users/maldo/OneDrive/Documents/GitHub/Python_Workshops/Workshops/%5BAnswer_Key%5D_NovaSperoxTBPWorkshop_1.ipynb#Y110sZmlsZQ%3D%3D?line=11'>12</a>\u001b[0m \u001b[39mdef\u001b[39;00m \u001b[39m__init__\u001b[39m(\u001b[39mself\u001b[39m):\n\u001b[1;32m---> <a href='vscode-notebook-cell:/c%3A/Users/maldo/OneDrive/Documents/GitHub/Python_Workshops/Workshops/%5BAnswer_Key%5D_NovaSperoxTBPWorkshop_1.ipynb#Y110sZmlsZQ%3D%3D?line=12'>13</a>\u001b[0m     \u001b[39mself\u001b[39m\u001b[39m.\u001b[39mt \u001b[39m=\u001b[39m turtle\u001b[39m.\u001b[39;49mTurtle()\n\u001b[0;32m     <a href='vscode-notebook-cell:/c%3A/Users/maldo/OneDrive/Documents/GitHub/Python_Workshops/Workshops/%5BAnswer_Key%5D_NovaSperoxTBPWorkshop_1.ipynb#Y110sZmlsZQ%3D%3D?line=13'>14</a>\u001b[0m     t \u001b[39m=\u001b[39m \u001b[39mself\u001b[39m\u001b[39m.\u001b[39mt\n\u001b[0;32m     <a href='vscode-notebook-cell:/c%3A/Users/maldo/OneDrive/Documents/GitHub/Python_Workshops/Workshops/%5BAnswer_Key%5D_NovaSperoxTBPWorkshop_1.ipynb#Y110sZmlsZQ%3D%3D?line=14'>15</a>\u001b[0m     t\u001b[39m.\u001b[39mpensize(\u001b[39m3\u001b[39m)\n",
            "File \u001b[1;32mc:\\Users\\maldo\\AppData\\Local\\Programs\\Python\\Python310\\lib\\turtle.py:3815\u001b[0m, in \u001b[0;36mTurtle.__init__\u001b[1;34m(self, shape, undobuffersize, visible)\u001b[0m\n\u001b[0;32m   3813\u001b[0m \u001b[39mif\u001b[39;00m Turtle\u001b[39m.\u001b[39m_screen \u001b[39mis\u001b[39;00m \u001b[39mNone\u001b[39;00m:\n\u001b[0;32m   3814\u001b[0m     Turtle\u001b[39m.\u001b[39m_screen \u001b[39m=\u001b[39m Screen()\n\u001b[1;32m-> 3815\u001b[0m RawTurtle\u001b[39m.\u001b[39;49m\u001b[39m__init__\u001b[39;49m(\u001b[39mself\u001b[39;49m, Turtle\u001b[39m.\u001b[39;49m_screen,\n\u001b[0;32m   3816\u001b[0m                    shape\u001b[39m=\u001b[39;49mshape,\n\u001b[0;32m   3817\u001b[0m                    undobuffersize\u001b[39m=\u001b[39;49mundobuffersize,\n\u001b[0;32m   3818\u001b[0m                    visible\u001b[39m=\u001b[39;49mvisible)\n",
            "File \u001b[1;32mc:\\Users\\maldo\\AppData\\Local\\Programs\\Python\\Python310\\lib\\turtle.py:2558\u001b[0m, in \u001b[0;36mRawTurtle.__init__\u001b[1;34m(self, canvas, shape, undobuffersize, visible)\u001b[0m\n\u001b[0;32m   2556\u001b[0m \u001b[39mself\u001b[39m\u001b[39m.\u001b[39m_undobuffersize \u001b[39m=\u001b[39m undobuffersize\n\u001b[0;32m   2557\u001b[0m \u001b[39mself\u001b[39m\u001b[39m.\u001b[39mundobuffer \u001b[39m=\u001b[39m Tbuffer(undobuffersize)\n\u001b[1;32m-> 2558\u001b[0m \u001b[39mself\u001b[39;49m\u001b[39m.\u001b[39;49m_update()\n",
            "File \u001b[1;32mc:\\Users\\maldo\\AppData\\Local\\Programs\\Python\\Python310\\lib\\turtle.py:2661\u001b[0m, in \u001b[0;36mRawTurtle._update\u001b[1;34m(self)\u001b[0m\n\u001b[0;32m   2659\u001b[0m     \u001b[39mreturn\u001b[39;00m\n\u001b[0;32m   2660\u001b[0m \u001b[39melif\u001b[39;00m screen\u001b[39m.\u001b[39m_tracing \u001b[39m==\u001b[39m \u001b[39m1\u001b[39m:\n\u001b[1;32m-> 2661\u001b[0m     \u001b[39mself\u001b[39;49m\u001b[39m.\u001b[39;49m_update_data()\n\u001b[0;32m   2662\u001b[0m     \u001b[39mself\u001b[39m\u001b[39m.\u001b[39m_drawturtle()\n\u001b[0;32m   2663\u001b[0m     screen\u001b[39m.\u001b[39m_update()                  \u001b[39m# TurtleScreenBase\u001b[39;00m\n",
            "File \u001b[1;32mc:\\Users\\maldo\\AppData\\Local\\Programs\\Python\\Python310\\lib\\turtle.py:2647\u001b[0m, in \u001b[0;36mRawTurtle._update_data\u001b[1;34m(self)\u001b[0m\n\u001b[0;32m   2646\u001b[0m \u001b[39mdef\u001b[39;00m \u001b[39m_update_data\u001b[39m(\u001b[39mself\u001b[39m):\n\u001b[1;32m-> 2647\u001b[0m     \u001b[39mself\u001b[39;49m\u001b[39m.\u001b[39;49mscreen\u001b[39m.\u001b[39;49m_incrementudc()\n\u001b[0;32m   2648\u001b[0m     \u001b[39mif\u001b[39;00m \u001b[39mself\u001b[39m\u001b[39m.\u001b[39mscreen\u001b[39m.\u001b[39m_updatecounter \u001b[39m!=\u001b[39m \u001b[39m0\u001b[39m:\n\u001b[0;32m   2649\u001b[0m         \u001b[39mreturn\u001b[39;00m\n",
            "File \u001b[1;32mc:\\Users\\maldo\\AppData\\Local\\Programs\\Python\\Python310\\lib\\turtle.py:1293\u001b[0m, in \u001b[0;36mTurtleScreen._incrementudc\u001b[1;34m(self)\u001b[0m\n\u001b[0;32m   1291\u001b[0m \u001b[39mif\u001b[39;00m \u001b[39mnot\u001b[39;00m TurtleScreen\u001b[39m.\u001b[39m_RUNNING:\n\u001b[0;32m   1292\u001b[0m     TurtleScreen\u001b[39m.\u001b[39m_RUNNING \u001b[39m=\u001b[39m \u001b[39mTrue\u001b[39;00m\n\u001b[1;32m-> 1293\u001b[0m     \u001b[39mraise\u001b[39;00m Terminator\n\u001b[0;32m   1294\u001b[0m \u001b[39mif\u001b[39;00m \u001b[39mself\u001b[39m\u001b[39m.\u001b[39m_tracing \u001b[39m>\u001b[39m \u001b[39m0\u001b[39m:\n\u001b[0;32m   1295\u001b[0m     \u001b[39mself\u001b[39m\u001b[39m.\u001b[39m_updatecounter \u001b[39m+\u001b[39m\u001b[39m=\u001b[39m \u001b[39m1\u001b[39m\n",
            "\u001b[1;31mTerminator\u001b[0m: "
          ]
        },
        {
          "ename": "",
          "evalue": "",
          "output_type": "error",
          "traceback": [
            "\u001b[1;31mThe Kernel crashed while executing code in the the current cell or a previous cell. Please review the code in the cell(s) to identify a possible cause of the failure. Click <a href='https://aka.ms/vscodeJupyterKernelCrash'>here</a> for more info. View Jupyter <a href='command:jupyter.viewOutput'>log</a> for further details."
          ]
        }
      ],
      "source": [
        "import turtle\n",
        "\n",
        "\n",
        "def getPosition(x, y):\n",
        "    turtle.setx(x)\n",
        "    turtle.sety(y)\n",
        "    print(x, y)\n",
        "\n",
        "\n",
        "class Pikachu:\n",
        "\n",
        "    def __init__(self):\n",
        "        self.t = turtle.Turtle()\n",
        "        t = self.t\n",
        "        t.pensize(3)\n",
        "        t.speed(9)\n",
        "        t.ondrag(getPosition)\n",
        "\n",
        "    def noTrace_goto(self, x, y):\n",
        "        self.t.penup()\n",
        "        self.t.goto(x, y)\n",
        "        self.t.pendown()\n",
        "\n",
        "    def leftEye(self, x, y):\n",
        "        self.noTrace_goto(x, y)\n",
        "        t = self.t\n",
        "        t.seth(0)\n",
        "        t.fillcolor('#333333')\n",
        "        t.begin_fill()\n",
        "        t.circle(22)\n",
        "        t.end_fill()\n",
        "\n",
        "        self.noTrace_goto(x, y + 10)\n",
        "        t.fillcolor('#000000')\n",
        "        t.begin_fill()\n",
        "        t.circle(10)\n",
        "        t.end_fill()\n",
        "\n",
        "        self.noTrace_goto(x + 6, y + 22)\n",
        "        t.fillcolor('#ffffff')\n",
        "        t.begin_fill()\n",
        "        t.circle(10)\n",
        "        t.end_fill()\n",
        "\n",
        "    def rightEye(self, x, y):\n",
        "        self.noTrace_goto(x, y)\n",
        "        t = self.t\n",
        "        t.seth(0)\n",
        "        t.fillcolor('#333333')\n",
        "        t.begin_fill()\n",
        "        t.circle(22)\n",
        "        t.end_fill()\n",
        "\n",
        "        self.noTrace_goto(x, y + 10)\n",
        "        t.fillcolor('#000000')\n",
        "        t.begin_fill()\n",
        "        t.circle(10)\n",
        "        t.end_fill()\n",
        "\n",
        "        self.noTrace_goto(x - 6, y + 22)\n",
        "        t.fillcolor('#ffffff')\n",
        "        t.begin_fill()\n",
        "        t.circle(10)\n",
        "        t.end_fill()\n",
        "\n",
        "    def mouth(self, x, y):\n",
        "        self.noTrace_goto(x, y)\n",
        "        t = self.t\n",
        "\n",
        "        t.fillcolor('#88141D')\n",
        "        t.begin_fill()\n",
        "\n",
        "        # Lower Lip\n",
        "        l1 = []\n",
        "        l2 = []\n",
        "        t.seth(190)\n",
        "        a = 0.7\n",
        "        for i in range(28):\n",
        "            a += 0.1\n",
        "            t.right(3)\n",
        "            t.fd(a)\n",
        "            l1.append(t.position())\n",
        "\n",
        "        self.noTrace_goto(x, y)\n",
        "\n",
        "        t.seth(10)\n",
        "        a = 0.7\n",
        "        for i in range(28):\n",
        "            a += 0.1\n",
        "            t.left(3)\n",
        "            t.fd(a)\n",
        "            l2.append(t.position())\n",
        "\n",
        "        # Upper Lip\n",
        "        t.seth(10)\n",
        "        t.circle(50, 15)\n",
        "        t.left(180)\n",
        "        t.circle(-50, 15)\n",
        "\n",
        "        t.circle(-50, 40)\n",
        "        t.seth(233)\n",
        "        t.circle(-50, 55)\n",
        "        t.left(180)\n",
        "        t.circle(50, 12.1)\n",
        "        t.end_fill()\n",
        "\n",
        "        # Tongue\n",
        "        self.noTrace_goto(17, 54)\n",
        "        t.fillcolor('#DD716F')\n",
        "        t.begin_fill()\n",
        "        t.seth(145)\n",
        "        t.circle(40, 86)\n",
        "        t.penup()\n",
        "        for pos in reversed(l1[:20]):\n",
        "            t.goto(pos[0], pos[1] + 1.5)\n",
        "        for pos in l2[:20]:\n",
        "            t.goto(pos[0], pos[1] + 1.5)\n",
        "        t.pendown()\n",
        "        t.end_fill()\n",
        "\n",
        "        # Nose\n",
        "        self.noTrace_goto(-17, 94)\n",
        "        t.seth(8)\n",
        "        t.fd(4)\n",
        "        t.back(8)\n",
        "\n",
        "    # Red Cheeks\n",
        "    def leftCheek(self, x, y):\n",
        "        turtle.tracer(False)\n",
        "        t = self.t\n",
        "        self.noTrace_goto(x, y)\n",
        "        t.seth(300)\n",
        "        t.fillcolor('#DD4D28')\n",
        "        t.begin_fill()\n",
        "        a = 2.3\n",
        "        for i in range(120):\n",
        "            if 0 <= i < 30 or 60 <= i < 90:\n",
        "                a -= 0.05\n",
        "                t.lt(3)\n",
        "                t.fd(a)\n",
        "            else:\n",
        "                a += 0.05\n",
        "                t.lt(3)\n",
        "                t.fd(a)\n",
        "        t.end_fill()\n",
        "        turtle.tracer(True)\n",
        "\n",
        "    def rightCheek(self, x, y):\n",
        "        t = self.t\n",
        "        turtle.tracer(False)\n",
        "        self.noTrace_goto(x, y)\n",
        "        t.seth(60)\n",
        "        t.fillcolor('#DD4D28')\n",
        "        t.begin_fill()\n",
        "        a = 2.3\n",
        "        for i in range(120):\n",
        "            if 0 <= i < 30 or 60 <= i < 90:\n",
        "                a -= 0.05\n",
        "                t.lt(3)\n",
        "                t.fd(a)\n",
        "            else:\n",
        "                a += 0.05\n",
        "                t.lt(3)\n",
        "                t.fd(a)\n",
        "        t.end_fill()\n",
        "        turtle.tracer(True)\n",
        "\n",
        "    def colorLeftEar(self, x, y):\n",
        "        t = self.t\n",
        "        self.noTrace_goto(x, y)\n",
        "        t.fillcolor('#000000')\n",
        "        t.begin_fill()\n",
        "        t.seth(330)\n",
        "        t.circle(100, 35)\n",
        "        t.seth(219)\n",
        "        t.circle(-300, 19)\n",
        "        t.seth(110)\n",
        "        t.circle(-30, 50)\n",
        "        t.circle(-300, 10)\n",
        "        t.end_fill()\n",
        "\n",
        "    def colorRightEar(self, x, y):\n",
        "        t = self.t\n",
        "        self.noTrace_goto(x, y)\n",
        "        t.fillcolor('#000000')\n",
        "        t.begin_fill()\n",
        "        t.seth(300)\n",
        "        t.circle(-100, 30)\n",
        "        t.seth(35)\n",
        "        t.circle(300, 15)\n",
        "        t.circle(30, 50)\n",
        "        t.seth(190)\n",
        "        t.circle(300, 17)\n",
        "        t.end_fill()\n",
        "\n",
        "    def body(self):\n",
        "        t = self.t\n",
        "\n",
        "        t.fillcolor('#F6D02F')\n",
        "        t.begin_fill()\n",
        "        # Right face contour\n",
        "        t.penup()\n",
        "        t.circle(130, 40)\n",
        "        t.pendown()\n",
        "        t.circle(100, 105)\n",
        "        t.left(180)\n",
        "        t.circle(-100, 5)\n",
        "\n",
        "        # Right ear\n",
        "        t.seth(20)\n",
        "        t.circle(300, 30)\n",
        "        t.circle(30, 50)\n",
        "        t.seth(190)\n",
        "        t.circle(300, 36)\n",
        "\n",
        "        # Upper profile\n",
        "        t.seth(150)\n",
        "        t.circle(150, 70)\n",
        "\n",
        "        # Left ear\n",
        "        t.seth(200)\n",
        "        t.circle(300, 40)\n",
        "        t.circle(30, 50)\n",
        "        t.seth(20)\n",
        "        t.circle(300, 35)\n",
        "        #print(t.pos())\n",
        "\n",
        "        # Left face contour\n",
        "        t.seth(240)\n",
        "        t.circle(105, 95)\n",
        "        t.left(180)\n",
        "        t.circle(-105, 5)\n",
        "\n",
        "        # Left hand\n",
        "        t.seth(210)\n",
        "        t.circle(500, 18)\n",
        "        t.seth(200)\n",
        "        t.fd(10)\n",
        "        t.seth(280)\n",
        "        t.fd(7)\n",
        "        t.seth(210)\n",
        "        t.fd(10)\n",
        "        t.seth(300)\n",
        "        t.circle(10, 80)\n",
        "        t.seth(220)\n",
        "        t.fd(10)\n",
        "        t.seth(300)\n",
        "        t.circle(10, 80)\n",
        "        t.seth(240)\n",
        "        t.fd(12)\n",
        "        t.seth(0)\n",
        "        t.fd(13)\n",
        "        t.seth(240)\n",
        "        t.circle(10, 70)\n",
        "        t.seth(10)\n",
        "        t.circle(10, 70)\n",
        "        t.seth(10)\n",
        "        t.circle(300, 18)\n",
        "\n",
        "        t.seth(75)\n",
        "        t.circle(500, 8)\n",
        "        t.left(180)\n",
        "        t.circle(-500, 15)\n",
        "        t.seth(250)\n",
        "        t.circle(100, 65)\n",
        "\n",
        "        # Left foot\n",
        "        t.seth(320)\n",
        "        t.circle(100, 5)\n",
        "        t.left(180)\n",
        "        t.circle(-100, 5)\n",
        "        t.seth(220)\n",
        "        t.circle(200, 20)\n",
        "        t.circle(20, 70)\n",
        "\n",
        "        t.seth(60)\n",
        "        t.circle(-100, 20)\n",
        "        t.left(180)\n",
        "        t.circle(100, 20)\n",
        "        t.seth(300)\n",
        "        t.circle(10, 70)\n",
        "\n",
        "        t.seth(60)\n",
        "        t.circle(-100, 20)\n",
        "        t.left(180)\n",
        "        t.circle(100, 20)\n",
        "        t.seth(10)\n",
        "        t.circle(100, 60)\n",
        "\n",
        "        # Horizontal\n",
        "        t.seth(180)\n",
        "        t.circle(-100, 10)\n",
        "        t.left(180)\n",
        "        t.circle(100, 10)\n",
        "        t.seth(5)\n",
        "        t.circle(100, 10)\n",
        "        t.circle(-100, 40)\n",
        "        t.circle(100, 35)\n",
        "        t.left(180)\n",
        "        t.circle(-100, 10)\n",
        "\n",
        "        # Right foot\n",
        "        t.seth(290)\n",
        "        t.circle(100, 55)\n",
        "        t.circle(10, 50)\n",
        "\n",
        "        t.seth(120)\n",
        "        t.circle(100, 20)\n",
        "        t.left(180)\n",
        "        t.circle(-100, 20)\n",
        "\n",
        "        t.seth(0)\n",
        "        t.circle(10, 50)\n",
        "\n",
        "        t.seth(110)\n",
        "        t.circle(100, 20)\n",
        "        t.left(180)\n",
        "        t.circle(-100, 20)\n",
        "\n",
        "        t.seth(30)\n",
        "        t.circle(20, 50)\n",
        "\n",
        "        t.seth(100)\n",
        "        t.circle(100, 40)\n",
        "\n",
        "        # Right body contour\n",
        "        t.seth(200)\n",
        "        t.circle(-100, 5)\n",
        "        t.left(180)\n",
        "        t.circle(100, 5)\n",
        "        t.left(30)\n",
        "        t.circle(100, 75)\n",
        "        t.right(15)\n",
        "        t.circle(-300, 21)\n",
        "        t.left(180)\n",
        "        t.circle(300, 3)\n",
        "\n",
        "        # Right hand\n",
        "        t.seth(43)\n",
        "        t.circle(200, 60)\n",
        "\n",
        "        t.right(10)\n",
        "        t.fd(10)\n",
        "\n",
        "        t.circle(5, 160)\n",
        "        t.seth(90)\n",
        "        t.circle(5, 160)\n",
        "        t.seth(90)\n",
        "\n",
        "        t.fd(10)\n",
        "        t.seth(90)\n",
        "        t.circle(5, 180)\n",
        "        t.fd(10)\n",
        "\n",
        "        t.left(180)\n",
        "        t.left(20)\n",
        "        t.fd(10)\n",
        "        t.circle(5, 170)\n",
        "        t.fd(10)\n",
        "        t.seth(240)\n",
        "        t.circle(50, 30)\n",
        "\n",
        "        t.end_fill()\n",
        "        self.noTrace_goto(130, 125)\n",
        "        t.seth(-20)\n",
        "        t.fd(5)\n",
        "        t.circle(-5, 160)\n",
        "        t.fd(5)\n",
        "\n",
        "        # Fingers\n",
        "        self.noTrace_goto(166, 130)\n",
        "        t.seth(-90)\n",
        "        t.fd(3)\n",
        "        t.circle(-4, 180)\n",
        "        t.fd(3)\n",
        "        t.seth(-90)\n",
        "        t.fd(3)\n",
        "        t.circle(-4, 180)\n",
        "        t.fd(3)\n",
        "\n",
        "        # Tail\n",
        "        self.noTrace_goto(168, 134)\n",
        "        t.fillcolor('#F6D02F')\n",
        "        t.begin_fill()\n",
        "        t.seth(40)\n",
        "        t.fd(200)\n",
        "        t.seth(-80)\n",
        "        t.fd(150)\n",
        "        t.seth(210)\n",
        "        t.fd(150)\n",
        "        t.left(90)\n",
        "        t.fd(100)\n",
        "        t.right(95)\n",
        "        t.fd(100)\n",
        "        t.left(110)\n",
        "        t.fd(70)\n",
        "        t.right(110)\n",
        "        t.fd(80)\n",
        "        t.left(110)\n",
        "        t.fd(30)\n",
        "        t.right(110)\n",
        "        t.fd(32)\n",
        "\n",
        "        t.right(106)\n",
        "        t.circle(100, 25)\n",
        "        t.right(15)\n",
        "        t.circle(-300, 2)\n",
        "        #print(t.pos())\n",
        "        t.seth(30)\n",
        "        t.fd(40)\n",
        "        t.left(100)\n",
        "        t.fd(70)\n",
        "        t.right(100)\n",
        "        t.fd(80)\n",
        "        t.left(100)\n",
        "        t.fd(46)\n",
        "        t.seth(66)\n",
        "        t.circle(200, 38)\n",
        "        t.right(10)\n",
        "        t.fd(10)\n",
        "        t.end_fill()\n",
        "\n",
        "        # Tail Pattern\n",
        "        t.fillcolor('#923E24')\n",
        "        self.noTrace_goto(126.82, -156.84)\n",
        "        t.begin_fill()\n",
        "\n",
        "        t.seth(30)\n",
        "        t.fd(40)\n",
        "        t.left(100)\n",
        "        t.fd(40)\n",
        "        t.pencolor('#923e24')\n",
        "        t.seth(-30)\n",
        "        t.fd(30)\n",
        "        t.left(140)\n",
        "        t.fd(20)\n",
        "        t.right(150)\n",
        "        t.fd(20)\n",
        "        t.left(150)\n",
        "        t.fd(20)\n",
        "        t.right(150)\n",
        "        t.fd(20)\n",
        "        t.left(130)\n",
        "        t.fd(18)\n",
        "        t.pencolor('#000000')\n",
        "        t.seth(-45)\n",
        "        t.fd(67)\n",
        "        t.right(110)\n",
        "        t.fd(80)\n",
        "        t.left(110)\n",
        "        t.fd(30)\n",
        "        t.right(110)\n",
        "        t.fd(32)\n",
        "        t.right(106)\n",
        "        t.circle(100, 25)\n",
        "        t.right(15)\n",
        "        t.circle(-300, 2)\n",
        "        t.end_fill()\n",
        "\n",
        "        # Hat, Eye, Mouth, Cheek\n",
        "        self.cap(-134.07, 147.81)\n",
        "        self.mouth(-5, 25)\n",
        "        self.leftCheek(-126, 32)\n",
        "        self.rightCheek(107, 63)\n",
        "        self.colorLeftEar(-250, 100)\n",
        "        self.colorRightEar(140, 270)\n",
        "        self.leftEye(-85, 90)\n",
        "        self.rightEye(50, 110)\n",
        "        t.hideturtle()\n",
        "\n",
        "    def cap(self, x, y):\n",
        "        self.noTrace_goto(x, y)\n",
        "        t = self.t\n",
        "        t.fillcolor('#CD0000')\n",
        "        t.begin_fill()\n",
        "        t.seth(200)\n",
        "        t.circle(400, 7)\n",
        "        t.left(180)\n",
        "        t.circle(-400, 30)\n",
        "        t.circle(30, 60)\n",
        "        t.fd(50)\n",
        "        t.circle(30, 45)\n",
        "        t.fd(60)\n",
        "        t.left(5)\n",
        "        t.circle(30, 70)\n",
        "        t.right(20)\n",
        "        t.circle(200, 70)\n",
        "        t.circle(30, 60)\n",
        "        t.fd(70)\n",
        "        #print(t.pos())\n",
        "        t.right(35)\n",
        "        t.fd(50)\n",
        "        t.circle(8, 100)\n",
        "        t.end_fill()\n",
        "        self.noTrace_goto(-168.47, 185.52)\n",
        "        t.seth(36)\n",
        "        t.circle(-270, 54)\n",
        "        t.left(180)\n",
        "        t.circle(270, 27)\n",
        "        t.circle(-80, 98)\n",
        "\n",
        "        t.fillcolor('#444444')\n",
        "        t.begin_fill()\n",
        "        t.left(180)\n",
        "        t.circle(80, 197)\n",
        "        t.left(58)\n",
        "        t.circle(200, 45)\n",
        "        t.end_fill()\n",
        "\n",
        "        self.noTrace_goto(-58, 270)\n",
        "        t.pencolor('#228B22')\n",
        "        t.dot(35)\n",
        "\n",
        "        self.noTrace_goto(-30, 280)\n",
        "        t.fillcolor('#228B22')\n",
        "        t.begin_fill()\n",
        "        t.seth(100)\n",
        "        t.circle(30, 180)\n",
        "        t.seth(190)\n",
        "        t.fd(15)\n",
        "        t.seth(100)\n",
        "        t.circle(-45, 180)\n",
        "        t.right(90)\n",
        "        t.fd(15)\n",
        "        t.end_fill()\n",
        "        t.pencolor('#000000')\n",
        "\n",
        "    def start(self):\n",
        "        self.body()\n",
        "\n",
        "\n",
        "def main():\n",
        "    print('Painting the Pikachu... ')\n",
        "    wn = turtle.Screen()\n",
        "    wn.setup(width=600, height=800)\n",
        "    pikachu = Pikachu()\n",
        "    pikachu.start()\n",
        "    turtle.mainloop()\n",
        "\n",
        "\n",
        "if __name__ == '__main__':\n",
        "    main()"
      ]
    },
    {
      "cell_type": "code",
      "execution_count": 22,
      "metadata": {
        "colab": {
          "base_uri": "https://localhost:8080/"
        },
        "id": "qf8bIl2YRCzC",
        "outputId": "435b5728-02be-4d3b-f871-382479f78ae8"
      },
      "outputs": [
        {
          "name": "stderr",
          "output_type": "stream",
          "text": [
            "'pip3' is not recognized as an internal or external command,\n",
            "operable program or batch file.\n"
          ]
        }
      ],
      "source": [
        "!pip3 install ColabTurtle\n",
        "\n"
      ]
    },
    {
      "cell_type": "code",
      "execution_count": 109,
      "metadata": {
        "colab": {
          "base_uri": "https://localhost:8080/",
          "height": 542
        },
        "id": "t9IS8ATgSS7n",
        "outputId": "3c3fa4fa-f28f-438c-8843-c7198f293432"
      },
      "outputs": [
        {
          "data": {
            "text/html": [
              "\n",
              "      <svg width=\"800\" height=\"500\">\n",
              "        <rect width=\"100%\" height=\"100%\" fill=\"#efefef\"/>\n",
              "        <line x1=\"150\" y1=\"200\" x2=\"150.0\" y2=\"100.0\" stroke-linecap=\"round\" style=\"stroke:mediumblue;stroke-width:4\"/><line x1=\"150.0\" y1=\"100.0\" x2=\"218.829\" y2=\"198.298\" stroke-linecap=\"round\" style=\"stroke:mediumblue;stroke-width:4\"/><line x1=\"218.829\" y1=\"198.298\" x2=\"218.829\" y2=\"98.298\" stroke-linecap=\"round\" style=\"stroke:mediumblue;stroke-width:4\"/><line x1=\"318.829\" y1=\"98.298\" x2=\"335.829\" y2=\"98.298\" stroke-linecap=\"round\" style=\"stroke:mediumblue;stroke-width:4\"/><line x1=\"335.829\" y1=\"98.298\" x2=\"351.804\" y2=\"104.112\" stroke-linecap=\"round\" style=\"stroke:mediumblue;stroke-width:4\"/><line x1=\"351.804\" y1=\"104.112\" x2=\"364.827\" y2=\"115.039\" stroke-linecap=\"round\" style=\"stroke:mediumblue;stroke-width:4\"/><line x1=\"364.827\" y1=\"115.039\" x2=\"373.327\" y2=\"129.761\" stroke-linecap=\"round\" style=\"stroke:mediumblue;stroke-width:4\"/><line x1=\"373.327\" y1=\"129.761\" x2=\"376.279\" y2=\"146.503\" stroke-linecap=\"round\" style=\"stroke:mediumblue;stroke-width:4\"/><line x1=\"376.279\" y1=\"146.503\" x2=\"373.327\" y2=\"163.245\" stroke-linecap=\"round\" style=\"stroke:mediumblue;stroke-width:4\"/><line x1=\"373.327\" y1=\"163.245\" x2=\"364.827\" y2=\"177.967\" stroke-linecap=\"round\" style=\"stroke:mediumblue;stroke-width:4\"/><line x1=\"364.827\" y1=\"177.967\" x2=\"351.804\" y2=\"188.894\" stroke-linecap=\"round\" style=\"stroke:mediumblue;stroke-width:4\"/><line x1=\"351.804\" y1=\"188.894\" x2=\"335.829\" y2=\"194.708\" stroke-linecap=\"round\" style=\"stroke:mediumblue;stroke-width:4\"/><line x1=\"335.829\" y1=\"194.708\" x2=\"318.829\" y2=\"194.708\" stroke-linecap=\"round\" style=\"stroke:mediumblue;stroke-width:4\"/><line x1=\"318.829\" y1=\"194.708\" x2=\"302.854\" y2=\"188.894\" stroke-linecap=\"round\" style=\"stroke:mediumblue;stroke-width:4\"/><line x1=\"302.854\" y1=\"188.894\" x2=\"289.831\" y2=\"177.967\" stroke-linecap=\"round\" style=\"stroke:mediumblue;stroke-width:4\"/><line x1=\"289.831\" y1=\"177.967\" x2=\"281.331\" y2=\"163.245\" stroke-linecap=\"round\" style=\"stroke:mediumblue;stroke-width:4\"/><line x1=\"281.331\" y1=\"163.245\" x2=\"278.379\" y2=\"146.503\" stroke-linecap=\"round\" style=\"stroke:mediumblue;stroke-width:4\"/><line x1=\"278.379\" y1=\"146.503\" x2=\"281.331\" y2=\"129.761\" stroke-linecap=\"round\" style=\"stroke:mediumblue;stroke-width:4\"/><line x1=\"281.331\" y1=\"129.761\" x2=\"289.831\" y2=\"115.039\" stroke-linecap=\"round\" style=\"stroke:mediumblue;stroke-width:4\"/><line x1=\"289.831\" y1=\"115.039\" x2=\"302.854\" y2=\"104.112\" stroke-linecap=\"round\" style=\"stroke:mediumblue;stroke-width:4\"/><line x1=\"302.854\" y1=\"104.112\" x2=\"318.829\" y2=\"98.298\" stroke-linecap=\"round\" style=\"stroke:mediumblue;stroke-width:4\"/><line x1=\"418.829\" y1=\"98.298\" x2=\"473.829\" y2=\"193.561\" stroke-linecap=\"round\" style=\"stroke:rgb(230,90,120);stroke-width:4\"/><line x1=\"473.829\" y1=\"193.561\" x2=\"528.829\" y2=\"98.298\" stroke-linecap=\"round\" style=\"stroke:rgb(230,90,120);stroke-width:4\"/><line x1=\"568.829\" y1=\"198.298\" x2=\"613.204\" y2=\"103.136\" stroke-linecap=\"round\" style=\"stroke:rgb(230,90,120);stroke-width:4\"/><line x1=\"613.204\" y1=\"103.136\" x2=\"657.579\" y2=\"198.298\" stroke-linecap=\"round\" style=\"stroke:rgb(230,90,120);stroke-width:4\"/><line x1=\"657.579\" y1=\"198.298\" x2=\"638.561\" y2=\"157.514\" stroke-linecap=\"round\" style=\"stroke:rgb(230,90,120);stroke-width:4\"/><line x1=\"638.561\" y1=\"157.514\" x2=\"588.561\" y2=\"157.514\" stroke-linecap=\"round\" style=\"stroke:rgb(230,90,120);stroke-width:4\"/><line x1=\"658.561\" y1=\"257.514\" x2=\"108.561\" y2=\"257.514\" stroke-linecap=\"round\" style=\"stroke:black;stroke-width:7\"/><line x1=\"108.561\" y1=\"257.514\" x2=\"115.561\" y2=\"257.514\" stroke-linecap=\"round\" style=\"stroke:black;stroke-width:7\"/><line x1=\"115.561\" y1=\"257.514\" x2=\"122.561\" y2=\"257.538\" stroke-linecap=\"round\" style=\"stroke:black;stroke-width:7\"/><line x1=\"122.561\" y1=\"257.538\" x2=\"129.561\" y2=\"257.587\" stroke-linecap=\"round\" style=\"stroke:black;stroke-width:7\"/><line x1=\"129.561\" y1=\"257.587\" x2=\"136.561\" y2=\"257.66\" stroke-linecap=\"round\" style=\"stroke:black;stroke-width:7\"/><line x1=\"136.561\" y1=\"257.66\" x2=\"143.56\" y2=\"257.758\" stroke-linecap=\"round\" style=\"stroke:black;stroke-width:7\"/><line x1=\"143.56\" y1=\"257.758\" x2=\"150.559\" y2=\"257.88\" stroke-linecap=\"round\" style=\"stroke:black;stroke-width:7\"/><line x1=\"150.559\" y1=\"257.88\" x2=\"157.557\" y2=\"258.027\" stroke-linecap=\"round\" style=\"stroke:black;stroke-width:7\"/><line x1=\"157.557\" y1=\"258.027\" x2=\"164.555\" y2=\"258.198\" stroke-linecap=\"round\" style=\"stroke:black;stroke-width:7\"/><line x1=\"164.555\" y1=\"258.198\" x2=\"171.552\" y2=\"258.393\" stroke-linecap=\"round\" style=\"stroke:black;stroke-width:7\"/><line x1=\"171.552\" y1=\"258.393\" x2=\"178.549\" y2=\"258.613\" stroke-linecap=\"round\" style=\"stroke:black;stroke-width:7\"/><line x1=\"178.549\" y1=\"258.613\" x2=\"185.545\" y2=\"258.857\" stroke-linecap=\"round\" style=\"stroke:black;stroke-width:7\"/><line x1=\"185.545\" y1=\"258.857\" x2=\"192.54\" y2=\"259.126\" stroke-linecap=\"round\" style=\"stroke:black;stroke-width:7\"/><line x1=\"192.54\" y1=\"259.126\" x2=\"199.534\" y2=\"259.419\" stroke-linecap=\"round\" style=\"stroke:black;stroke-width:7\"/><line x1=\"199.534\" y1=\"259.419\" x2=\"206.527\" y2=\"259.737\" stroke-linecap=\"round\" style=\"stroke:black;stroke-width:7\"/><line x1=\"206.527\" y1=\"259.737\" x2=\"213.519\" y2=\"260.079\" stroke-linecap=\"round\" style=\"stroke:black;stroke-width:7\"/><line x1=\"213.519\" y1=\"260.079\" x2=\"220.509\" y2=\"260.445\" stroke-linecap=\"round\" style=\"stroke:black;stroke-width:7\"/><line x1=\"220.509\" y1=\"260.445\" x2=\"227.498\" y2=\"260.836\" stroke-linecap=\"round\" style=\"stroke:black;stroke-width:7\"/><line x1=\"227.498\" y1=\"260.836\" x2=\"234.486\" y2=\"261.251\" stroke-linecap=\"round\" style=\"stroke:black;stroke-width:7\"/><line x1=\"234.486\" y1=\"261.251\" x2=\"241.472\" y2=\"261.691\" stroke-linecap=\"round\" style=\"stroke:black;stroke-width:7\"/><line x1=\"241.472\" y1=\"261.691\" x2=\"248.457\" y2=\"262.155\" stroke-linecap=\"round\" style=\"stroke:black;stroke-width:7\"/><line x1=\"248.457\" y1=\"262.155\" x2=\"255.44\" y2=\"262.643\" stroke-linecap=\"round\" style=\"stroke:black;stroke-width:7\"/><line x1=\"255.44\" y1=\"262.643\" x2=\"262.421\" y2=\"263.156\" stroke-linecap=\"round\" style=\"stroke:black;stroke-width:7\"/><line x1=\"262.421\" y1=\"263.156\" x2=\"269.4\" y2=\"263.693\" stroke-linecap=\"round\" style=\"stroke:black;stroke-width:7\"/><line x1=\"269.4\" y1=\"263.693\" x2=\"276.377\" y2=\"264.254\" stroke-linecap=\"round\" style=\"stroke:black;stroke-width:7\"/><line x1=\"276.377\" y1=\"264.254\" x2=\"283.352\" y2=\"264.84\" stroke-linecap=\"round\" style=\"stroke:black;stroke-width:7\"/><line x1=\"283.352\" y1=\"264.84\" x2=\"290.325\" y2=\"265.45\" stroke-linecap=\"round\" style=\"stroke:black;stroke-width:7\"/><line x1=\"290.325\" y1=\"265.45\" x2=\"297.296\" y2=\"266.084\" stroke-linecap=\"round\" style=\"stroke:black;stroke-width:7\"/><line x1=\"297.296\" y1=\"266.084\" x2=\"304.265\" y2=\"266.743\" stroke-linecap=\"round\" style=\"stroke:black;stroke-width:7\"/><line x1=\"304.265\" y1=\"266.743\" x2=\"311.232\" y2=\"267.426\" stroke-linecap=\"round\" style=\"stroke:black;stroke-width:7\"/><line x1=\"311.232\" y1=\"267.426\" x2=\"318.196\" y2=\"268.133\" stroke-linecap=\"round\" style=\"stroke:black;stroke-width:7\"/><line x1=\"318.196\" y1=\"268.133\" x2=\"325.158\" y2=\"268.865\" stroke-linecap=\"round\" style=\"stroke:black;stroke-width:7\"/><line x1=\"325.158\" y1=\"268.865\" x2=\"332.117\" y2=\"269.621\" stroke-linecap=\"round\" style=\"stroke:black;stroke-width:7\"/><line x1=\"332.117\" y1=\"269.621\" x2=\"339.073\" y2=\"270.401\" stroke-linecap=\"round\" style=\"stroke:black;stroke-width:7\"/><line x1=\"339.073\" y1=\"270.401\" x2=\"346.027\" y2=\"271.206\" stroke-linecap=\"round\" style=\"stroke:black;stroke-width:7\"/><line x1=\"346.027\" y1=\"271.206\" x2=\"352.978\" y2=\"272.035\" stroke-linecap=\"round\" style=\"stroke:black;stroke-width:7\"/><line x1=\"352.978\" y1=\"272.035\" x2=\"359.926\" y2=\"272.888\" stroke-linecap=\"round\" style=\"stroke:black;stroke-width:7\"/><line x1=\"359.926\" y1=\"272.888\" x2=\"366.871\" y2=\"273.765\" stroke-linecap=\"round\" style=\"stroke:black;stroke-width:7\"/><line x1=\"366.871\" y1=\"273.765\" x2=\"373.813\" y2=\"274.667\" stroke-linecap=\"round\" style=\"stroke:black;stroke-width:7\"/><line x1=\"373.813\" y1=\"274.667\" x2=\"380.752\" y2=\"275.593\" stroke-linecap=\"round\" style=\"stroke:black;stroke-width:7\"/><line x1=\"380.752\" y1=\"275.593\" x2=\"387.687\" y2=\"276.543\" stroke-linecap=\"round\" style=\"stroke:black;stroke-width:7\"/><line x1=\"387.687\" y1=\"276.543\" x2=\"394.619\" y2=\"277.517\" stroke-linecap=\"round\" style=\"stroke:black;stroke-width:7\"/><line x1=\"394.619\" y1=\"277.517\" x2=\"401.547\" y2=\"278.515\" stroke-linecap=\"round\" style=\"stroke:black;stroke-width:7\"/><line x1=\"401.547\" y1=\"278.515\" x2=\"408.472\" y2=\"279.538\" stroke-linecap=\"round\" style=\"stroke:black;stroke-width:7\"/><line x1=\"408.472\" y1=\"279.538\" x2=\"415.393\" y2=\"280.585\" stroke-linecap=\"round\" style=\"stroke:black;stroke-width:7\"/><line x1=\"415.393\" y1=\"280.585\" x2=\"422.311\" y2=\"281.656\" stroke-linecap=\"round\" style=\"stroke:black;stroke-width:7\"/><line x1=\"422.311\" y1=\"281.656\" x2=\"429.225\" y2=\"282.751\" stroke-linecap=\"round\" style=\"stroke:black;stroke-width:7\"/><line x1=\"429.225\" y1=\"282.751\" x2=\"436.135\" y2=\"283.87\" stroke-linecap=\"round\" style=\"stroke:black;stroke-width:7\"/><line x1=\"436.135\" y1=\"283.87\" x2=\"443.041\" y2=\"285.013\" stroke-linecap=\"round\" style=\"stroke:black;stroke-width:7\"/><line x1=\"443.041\" y1=\"285.013\" x2=\"449.943\" y2=\"286.18\" stroke-linecap=\"round\" style=\"stroke:black;stroke-width:7\"/><line x1=\"449.943\" y1=\"286.18\" x2=\"456.841\" y2=\"287.371\" stroke-linecap=\"round\" style=\"stroke:black;stroke-width:7\"/><line x1=\"456.841\" y1=\"287.371\" x2=\"463.735\" y2=\"288.587\" stroke-linecap=\"round\" style=\"stroke:black;stroke-width:7\"/><line x1=\"463.735\" y1=\"288.587\" x2=\"470.624\" y2=\"289.827\" stroke-linecap=\"round\" style=\"stroke:black;stroke-width:7\"/><line x1=\"470.624\" y1=\"289.827\" x2=\"477.509\" y2=\"291.091\" stroke-linecap=\"round\" style=\"stroke:black;stroke-width:7\"/><line x1=\"477.509\" y1=\"291.091\" x2=\"484.39\" y2=\"292.379\" stroke-linecap=\"round\" style=\"stroke:black;stroke-width:7\"/><line x1=\"484.39\" y1=\"292.379\" x2=\"491.266\" y2=\"293.691\" stroke-linecap=\"round\" style=\"stroke:black;stroke-width:7\"/><line x1=\"491.266\" y1=\"293.691\" x2=\"498.137\" y2=\"295.027\" stroke-linecap=\"round\" style=\"stroke:black;stroke-width:7\"/><line x1=\"498.137\" y1=\"295.027\" x2=\"505.004\" y2=\"296.387\" stroke-linecap=\"round\" style=\"stroke:black;stroke-width:7\"/><line x1=\"505.004\" y1=\"296.387\" x2=\"511.866\" y2=\"297.771\" stroke-linecap=\"round\" style=\"stroke:black;stroke-width:7\"/><line x1=\"511.866\" y1=\"297.771\" x2=\"518.723\" y2=\"299.179\" stroke-linecap=\"round\" style=\"stroke:black;stroke-width:7\"/><line x1=\"518.723\" y1=\"299.179\" x2=\"525.575\" y2=\"300.61\" stroke-linecap=\"round\" style=\"stroke:black;stroke-width:7\"/><line x1=\"525.575\" y1=\"300.61\" x2=\"532.422\" y2=\"302.065\" stroke-linecap=\"round\" style=\"stroke:black;stroke-width:7\"/><line x1=\"532.422\" y1=\"302.065\" x2=\"539.264\" y2=\"303.544\" stroke-linecap=\"round\" style=\"stroke:black;stroke-width:7\"/><line x1=\"539.264\" y1=\"303.544\" x2=\"546.101\" y2=\"305.047\" stroke-linecap=\"round\" style=\"stroke:black;stroke-width:7\"/><line x1=\"546.101\" y1=\"305.047\" x2=\"552.932\" y2=\"306.574\" stroke-linecap=\"round\" style=\"stroke:black;stroke-width:7\"/><line x1=\"552.932\" y1=\"306.574\" x2=\"559.758\" y2=\"308.125\" stroke-linecap=\"round\" style=\"stroke:black;stroke-width:7\"/><line x1=\"559.758\" y1=\"308.125\" x2=\"566.579\" y2=\"309.7\" stroke-linecap=\"round\" style=\"stroke:black;stroke-width:7\"/><line x1=\"566.579\" y1=\"309.7\" x2=\"573.394\" y2=\"311.298\" stroke-linecap=\"round\" style=\"stroke:black;stroke-width:7\"/><line x1=\"573.394\" y1=\"311.298\" x2=\"580.203\" y2=\"312.92\" stroke-linecap=\"round\" style=\"stroke:black;stroke-width:7\"/><line x1=\"580.203\" y1=\"312.92\" x2=\"587.007\" y2=\"314.566\" stroke-linecap=\"round\" style=\"stroke:black;stroke-width:7\"/><line x1=\"587.007\" y1=\"314.566\" x2=\"593.805\" y2=\"316.236\" stroke-linecap=\"round\" style=\"stroke:black;stroke-width:7\"/><line x1=\"593.805\" y1=\"316.236\" x2=\"600.597\" y2=\"317.929\" stroke-linecap=\"round\" style=\"stroke:black;stroke-width:7\"/><line x1=\"600.597\" y1=\"317.929\" x2=\"607.383\" y2=\"319.646\" stroke-linecap=\"round\" style=\"stroke:black;stroke-width:7\"/><line x1=\"607.383\" y1=\"319.646\" x2=\"614.163\" y2=\"321.387\" stroke-linecap=\"round\" style=\"stroke:black;stroke-width:7\"/><line x1=\"614.163\" y1=\"321.387\" x2=\"620.937\" y2=\"323.151\" stroke-linecap=\"round\" style=\"stroke:black;stroke-width:7\"/><line x1=\"620.937\" y1=\"323.151\" x2=\"627.705\" y2=\"324.939\" stroke-linecap=\"round\" style=\"stroke:black;stroke-width:7\"/><line x1=\"627.705\" y1=\"324.939\" x2=\"634.466\" y2=\"326.751\" stroke-linecap=\"round\" style=\"stroke:black;stroke-width:7\"/><line x1=\"634.466\" y1=\"326.751\" x2=\"641.221\" y2=\"328.586\" stroke-linecap=\"round\" style=\"stroke:black;stroke-width:7\"/><line x1=\"641.221\" y1=\"328.586\" x2=\"647.97\" y2=\"330.445\" stroke-linecap=\"round\" style=\"stroke:black;stroke-width:7\"/><line x1=\"647.97\" y1=\"330.445\" x2=\"654.712\" y2=\"332.327\" stroke-linecap=\"round\" style=\"stroke:black;stroke-width:7\"/><line x1=\"654.712\" y1=\"332.327\" x2=\"661.448\" y2=\"334.233\" stroke-linecap=\"round\" style=\"stroke:black;stroke-width:7\"/><line x1=\"661.448\" y1=\"334.233\" x2=\"668.177\" y2=\"336.162\" stroke-linecap=\"round\" style=\"stroke:black;stroke-width:7\"/><line x1=\"668.177\" y1=\"336.162\" x2=\"674.899\" y2=\"338.115\" stroke-linecap=\"round\" style=\"stroke:black;stroke-width:7\"/><line x1=\"674.899\" y1=\"338.115\" x2=\"681.614\" y2=\"340.091\" stroke-linecap=\"round\" style=\"stroke:black;stroke-width:7\"/><line x1=\"681.614\" y1=\"340.091\" x2=\"688.322\" y2=\"342.091\" stroke-linecap=\"round\" style=\"stroke:black;stroke-width:7\"/><line x1=\"688.322\" y1=\"342.091\" x2=\"695.023\" y2=\"344.114\" stroke-linecap=\"round\" style=\"stroke:black;stroke-width:7\"/><line x1=\"695.023\" y1=\"344.114\" x2=\"701.717\" y2=\"346.161\" stroke-linecap=\"round\" style=\"stroke:black;stroke-width:7\"/><line x1=\"701.717\" y1=\"346.161\" x2=\"708.404\" y2=\"348.231\" stroke-linecap=\"round\" style=\"stroke:black;stroke-width:7\"/><line x1=\"708.404\" y1=\"348.231\" x2=\"715.084\" y2=\"350.324\" stroke-linecap=\"round\" style=\"stroke:black;stroke-width:7\"/><line x1=\"715.084\" y1=\"350.324\" x2=\"721.756\" y2=\"352.441\" stroke-linecap=\"round\" style=\"stroke:black;stroke-width:7\"/><line x1=\"721.756\" y1=\"352.441\" x2=\"728.421\" y2=\"354.581\" stroke-linecap=\"round\" style=\"stroke:black;stroke-width:7\"/><text x=\"428.421\" y=\"354.581\" fill=\"black\" text-anchor=\"middle\" style=\"font-size:25px;font-family:'Arial';font-style:italic;\">Pyhton Workshop</text>\n",
              "        <g visibility=visible transform=\"rotate(360,428.421,394.581) translate(410.421, 376.581)\">\n",
              "<path style=\" stroke:none;fill-rule:evenodd;fill:rgb(70 110 70);fill-opacity:1;\" d=\"M 18.214844 0.632812 C 16.109375 1.800781 15.011719 4.074219 15.074219 7.132812 L 15.085938 7.652344 L 14.785156 7.496094 C 13.476562 6.824219 11.957031 6.671875 10.40625 7.066406 C 8.46875 7.550781 6.515625 9.15625 4.394531 11.992188 C 3.0625 13.777344 2.679688 14.636719 3.042969 15.027344 L 3.15625 15.152344 L 3.519531 15.152344 C 4.238281 15.152344 4.828125 14.886719 8.1875 13.039062 C 9.386719 12.378906 10.371094 11.839844 10.378906 11.839844 C 10.386719 11.839844 10.355469 11.929688 10.304688 12.035156 C 9.832031 13.09375 9.257812 14.820312 8.96875 16.078125 C 7.914062 20.652344 8.617188 24.53125 11.070312 27.660156 C 11.351562 28.015625 11.363281 27.914062 10.972656 28.382812 C 8.925781 30.84375 7.945312 33.28125 8.238281 35.1875 C 8.289062 35.527344 8.28125 35.523438 8.917969 35.523438 C 10.941406 35.523438 13.074219 34.207031 15.136719 31.6875 C 15.359375 31.417969 15.328125 31.425781 15.5625 31.574219 C 16.292969 32.042969 18.023438 32.964844 18.175781 32.964844 C 18.335938 32.964844 19.941406 32.210938 20.828125 31.71875 C 20.996094 31.625 21.136719 31.554688 21.136719 31.558594 C 21.203125 31.664062 21.898438 32.414062 22.222656 32.730469 C 23.835938 34.300781 25.5625 35.132812 27.582031 35.300781 C 27.90625 35.328125 27.9375 35.308594 28.007812 34.984375 C 28.382812 33.242188 27.625 30.925781 25.863281 28.425781 L 25.542969 27.96875 L 25.699219 27.785156 C 28.945312 23.960938 29.132812 18.699219 26.257812 11.96875 L 26.207031 11.84375 L 27.945312 12.703125 C 31.53125 14.476562 32.316406 14.800781 33.03125 14.800781 C 33.976562 14.800781 33.78125 13.9375 32.472656 12.292969 C 28.519531 7.355469 25.394531 5.925781 21.921875 7.472656 L 21.558594 7.636719 L 21.578125 7.542969 C 21.699219 6.992188 21.761719 5.742188 21.699219 5.164062 C 21.496094 3.296875 20.664062 1.964844 19.003906 0.855469 C 18.480469 0.503906 18.457031 0.5 18.214844 0.632812\"/>\n",
              "</g>\n",
              "      </svg>\n",
              "    "
            ],
            "text/plain": [
              "<IPython.core.display.HTML object>"
            ]
          },
          "metadata": {},
          "output_type": "display_data"
        }
      ],
      "source": [
        "from ColabTurtle.Turtle import *\n",
        "initializeTurtle()\n",
        "\n",
        "# write the letter N\n",
        "color('mediumblue')\n",
        "penup()\n",
        "goto(150, 200)\n",
        "pendown()\n",
        "forward(100)\n",
        "right(145)\n",
        "forward(120)\n",
        "left(145)\n",
        "forward(100)\n",
        "\n",
        "#Bring the Turtle to a new location\n",
        "penup()\n",
        "right(90)\n",
        "forward(100)\n",
        "pendown()\n",
        "speed(10)\n",
        "\n",
        "#Write the letter O\n",
        "for i in range(18):\n",
        "    forward(17)\n",
        "    right(20)\n",
        "penup()\n",
        "color(230, 90, 120)\n",
        "speed(7)\n",
        "\n",
        "#Move to a new Location\n",
        "forward(100)\n",
        "\n",
        "#Write the Letter V\n",
        "pendown()\n",
        "right(60)\n",
        "forward(110)\n",
        "right(240)\n",
        "forward(110)\n",
        "\n",
        "#Move to a new Location\n",
        "penup()\n",
        "speed(7)\n",
        "right(60)\n",
        "forward(40)\n",
        "right(90)\n",
        "forward(100)\n",
        "\n",
        "#Write the Letter A\n",
        "pendown()\n",
        "left(155)\n",
        "forward(105)\n",
        "right(130)\n",
        "forward(105)\n",
        "backward(45)\n",
        "right(115)\n",
        "forward(50)\n",
        "bgcolor(\"#efefef\")\n",
        "\n",
        "# Move to a new location and make a design\n",
        "penup()\n",
        "backward(70)\n",
        "left(90)\n",
        "forward(100)\n",
        "right(90)\n",
        "pencolor('black')\n",
        "pensize(7)\n",
        "pendown()\n",
        "forward(550)\n",
        "left(180)\n",
        "speed(12)\n",
        "for i in range(90):\n",
        "    forward(7)\n",
        "    right(0.2)\n",
        "speed(2)\n",
        "left(18+180)\n",
        "penup()\n",
        "forward(300)\n",
        "\n",
        "#Create The Header\n",
        "setheading(270)\n",
        "write(\"Pyhton Workshop\", align=\"center\", font=(25, \"Arial\", \"italic\"))\n",
        "color('rgb(70 110 70)')\n",
        "backward(40)"
      ]
    }
  ],
  "metadata": {
    "colab": {
      "collapsed_sections": [],
      "include_colab_link": true,
      "provenance": []
    },
    "kernelspec": {
      "display_name": "Python 3.10.5 64-bit",
      "language": "python",
      "name": "python3"
    },
    "language_info": {
      "codemirror_mode": {
        "name": "ipython",
        "version": 3
      },
      "file_extension": ".py",
      "mimetype": "text/x-python",
      "name": "python",
      "nbconvert_exporter": "python",
      "pygments_lexer": "ipython3",
      "version": "3.10.5"
    },
    "vscode": {
      "interpreter": {
        "hash": "ac06d3e645737b2f8fe3f9ec4108298f5d877cdc72d7e4dd5bda330acefa8fe6"
      }
    }
  },
  "nbformat": 4,
  "nbformat_minor": 0
}
