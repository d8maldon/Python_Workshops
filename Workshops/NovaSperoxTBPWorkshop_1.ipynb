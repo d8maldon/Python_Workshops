{
  "cells": [
    {
      "cell_type": "markdown",
      "metadata": {
        "colab_type": "text",
        "id": "view-in-github"
      },
      "source": [
        "<a href=\"https://colab.research.google.com/github/d8maldon/Python_Workshops/blob/main/NovaSperoxTBPWorkshop_1.ipynb\" target=\"_parent\"><img src=\"https://colab.research.google.com/assets/colab-badge.svg\" alt=\"Open In Colab\"/></a>"
      ]
    },
    {
      "cell_type": "markdown",
      "metadata": {
        "id": "fv6zLc712mfT"
      },
      "source": [
        "# Nova Spero x Tau Beta Pi: Python Workshop 1 \n",
        "# (The Basics: Numbers, Variables, Logic, and Functions)\n",
        "\n",
        "This workbook will explore how to handle numbers, variables, conditionals, loops, and functions using Python.\n",
        "\n",
        "### Goals\n",
        "Learn how to take make use of numbers and variables to create a function:\n",
        "- Understand what a variable means\n",
        "- Learn how to introduce conditions in code\n",
        "- Learn how to automate repetitive tasks\n",
        "- Learn how to write a function\n",
        "- Learn how to create a general plot and an interactive plot with functions\n",
        "\n",
        "### Requirements\n",
        "The following are necessary libraries needed to perform the following exercises.\n",
        "\n",
        "- random = used to generate random values\n"
      ]
    },
    {
      "cell_type": "code",
      "execution_count": null,
      "metadata": {
        "id": "4tO0Jm3E2mfW"
      },
      "outputs": [],
      "source": [
        "# load the required packages\n",
        "import random\n",
        "import turtle"
      ]
    },
    {
      "cell_type": "markdown",
      "metadata": {
        "id": "n3ncgGaD2mfb"
      },
      "source": [
        "<br><hr style=\"border: 0.5px solid#C4C4C4;\" /><br>\n",
        "## 1) Exploring numbers\n",
        "\n",
        "Programming languages work with data which comes in many forms. Some data is simple text [such as this sentence], and some of it is very complex [videos and sound]. \n",
        "\n",
        "\n",
        "<br>\n",
        "\n",
        "We are familiar with numbers and we will see that numbers behave similarly to what we are used to. In the following exercises we will use our understanding of numbers and basic arithmetic. \n",
        "\n",
        "<br>\n",
        "\n",
        "Let's start by typing your favorite number, and performing arithmetic operations: \n",
        "\n",
        "In the code cells below, we will try out:\n",
        "\n",
        "- Print a number\n",
        "- Perform a summation"
      ]
    },
    {
      "cell_type": "code",
      "execution_count": null,
      "metadata": {
        "id": "QQZ8DEbi2mfd"
      },
      "outputs": [],
      "source": [
        "# Type your favorite number below\n",
        "# EX: 10\n"
      ]
    },
    {
      "cell_type": "code",
      "execution_count": null,
      "metadata": {
        "id": "CtLkBinmE_hJ"
      },
      "outputs": [],
      "source": [
        "# Perform a summation between your favorite and least favorite number\n",
        "# EX: 10+7 \n"
      ]
    },
    {
      "cell_type": "markdown",
      "metadata": {
        "id": "yRhBXKyJ2mfk"
      },
      "source": [
        "We have shown that Python can be used as a calculator! Python uses many of the mathematical operators that we are already familiar with: \n",
        "<br><br>\n",
        "Mathematical Operations in Python: \n",
        "<br>\n",
        "\n",
        "\n",
        "|Mathematical Operation  | Symbol |   \n",
        "|---                     |   ---  |\n",
        "| Addition               |    +   |  \n",
        "| Subtraction            |    -   |   \n",
        "| Multiplication         |    *   |   \n",
        "| Division               |    /   |   \n",
        "\n",
        "<br>\n",
        "\n",
        "As a next step try writing out mathematical expression using all four of these mathematical operations and your favorite and least favorite number. \n",
        "\n",
        "**Question:** Mathematically what is the the answer to your equation?\n",
        "\n",
        "**Answers:**\n",
        "\n",
        "???"
      ]
    },
    {
      "cell_type": "code",
      "execution_count": null,
      "metadata": {
        "code_folding": [],
        "id": "athaR8wD2mfl"
      },
      "outputs": [],
      "source": [
        "# Write out an expression using all 4 mathematical operations\n",
        "# EX: 10 *2 + (7-3)/2 \n"
      ]
    },
    {
      "cell_type": "markdown",
      "metadata": {
        "id": "fqQScPe_M4ur"
      },
      "source": [
        "We have seen that Python can be used as a calculator to solve out math problems! What we have done above is write *programs* which Python evaluates and gives us a result. Next we will explore how we can use variables to perform more complicated tasks. "
      ]
    },
    {
      "cell_type": "markdown",
      "metadata": {
        "id": "MzsaiT6A2mfr"
      },
      "source": [
        "<br><hr style=\"border: 0.5px solid#C4C4C4;\" /><br>\n",
        "## 2) Variables\n",
        "\n",
        "We can create variables, ways of storing our data, which we can call for future reference to simplify our programs. Let's try the same exercises as above, but this time we will define and use variables for our favorite and least favorite numbers. \n",
        "\n"
      ]
    },
    {
      "cell_type": "code",
      "execution_count": null,
      "metadata": {
        "id": "znLqDiAVOXGF"
      },
      "outputs": [],
      "source": [
        "# Define your favorite number as fav_num\n",
        "# EX: fav_num = 10\n",
        "\n",
        "fav_num = ???\n",
        "\n",
        "#The print command is used to dispay the contents of a variable\n",
        "print(\"My favorite number is\", ???)"
      ]
    },
    {
      "cell_type": "code",
      "execution_count": null,
      "metadata": {
        "id": "VdTK0t5_OzaN"
      },
      "outputs": [],
      "source": [
        "# Define a new variable for your least favorite number as lea_num\n",
        "# Perform a summation between your favorite and least favorite number using variables \n",
        "# EX: lea_num = 7; \n",
        "\n",
        "lea_num =  ???\n",
        "sum = ???\n",
        "\n",
        "print(\"Least Favorite Number =\", ???)\n",
        "print(\"Sum of Favorite and Least Favorite = \", ???)"
      ]
    },
    {
      "cell_type": "markdown",
      "metadata": {
        "id": "lufsisX_QBhx"
      },
      "source": [
        "Variables allow you to store information which can be used again whenever you type out that variable. Just as we saw with numbers you can also perform arthimethic operations on variables. "
      ]
    },
    {
      "cell_type": "markdown",
      "metadata": {
        "id": "vI5IW6wKY_sO"
      },
      "source": [
        "<br><hr style=\"border: 0.5px solid#C4C4C4;\" /><br>\n",
        "## 3) String and Lists\n",
        "\n",
        "As mentioned previously python works with many data types and one of these are strings. By putting characters between double quotes: \" \" \n",
        "you can create strings to store text. \n",
        "\n",
        "EX: ```\"Hello World\"```\n",
        "\n",
        "<br><br>\n",
        "Lists are another data type in python. Lists are created using square brackets `[ ]` and are used to store multiple items in a single variable. \n",
        "\n",
        "\n",
        "EX: ```colors = [\"red\", \"green\", \"blue\"]```\n",
        "\n",
        "\n",
        "In the code cells below, we will:\n",
        "+ Use strings to write out your name and favorite color and store them as variables.\n",
        "+ Manipulate strings\n",
        "+ Create a list using numbers and strings\n",
        "\n",
        "\n",
        "\n"
      ]
    },
    {
      "cell_type": "code",
      "execution_count": null,
      "metadata": {
        "id": "IXDRvKV0fuvE"
      },
      "outputs": [],
      "source": [
        "# Use \"\" to write your name and favorite color\n",
        "# Store your name in a variable called name \n",
        "# Create a variable called fav_color to store your favorite color\n",
        "\n",
        "name = \"???\"\n",
        "\n",
        "fav_color = \"???\"\n",
        "\n",
        "print(\"name = \", ???)\n",
        "print(\"fav_color =\", ???)\n"
      ]
    },
    {
      "cell_type": "code",
      "execution_count": null,
      "metadata": {
        "id": "cmlqXqvtgCVV"
      },
      "outputs": [],
      "source": [
        "# Combine your name and favorite color into one variable, let's call this\n",
        "# variable: name_color\n",
        "\n",
        "name_color = ??? + ???\n",
        "\n",
        "print(???)\n"
      ]
    },
    {
      "cell_type": "markdown",
      "metadata": {
        "id": "3GupMSPhg1rb"
      },
      "source": [
        "Just like numbers, we are able to store strings as variables. Strings can also be manipulated in similar ways to numbers. \n",
        "\n",
        "\n",
        "\n",
        "\n"
      ]
    },
    {
      "cell_type": "code",
      "execution_count": null,
      "metadata": {
        "id": "s6ZDDc-XhEs-"
      },
      "outputs": [],
      "source": [
        "# Using [] create and store a list that includes the following: \n",
        "# - 3 foods\n",
        "# - your name       HINT: (use a variable)\n",
        "# - favorite number HINT: (use a variable)\n",
        "\n",
        "#Store this list as a variable called: my_list\n",
        "\n",
        "my_list = [\"???\", \"???\", ???, ???, \"???\"]\n",
        "print(???)"
      ]
    },
    {
      "cell_type": "markdown",
      "metadata": {
        "id": "neRLoBl9i9m2"
      },
      "source": [
        "List are a good way to store lots of information within one variable. In the code cell above, we created a list that contained both numbers and strings. "
      ]
    },
    {
      "cell_type": "markdown",
      "metadata": {
        "id": "9OX8ynf3bh3Y"
      },
      "source": [
        "<br><hr style=\"border: 0.5px solid#C4C4C4;\" /><br>\n",
        "## 4) Conditionals\n",
        "\n",
        "The heart of any program is logic. It's what makes Python more than just a glorified calculator.\n",
        "\n",
        "Using the `if` and `else` keywords, it's possible to write two sections of code, and have the program choose which to run based on a condition.\n",
        "\n",
        "For instance, a conditional could be used to print a different message based on the user's age.\n",
        "\n"
      ]
    },
    {
      "cell_type": "code",
      "execution_count": null,
      "metadata": {
        "id": "zJEdomIvfPUR"
      },
      "outputs": [],
      "source": [
        "age = 18\n",
        "if age >= 16:\n",
        "  print(\"Drive safe!\")\n",
        "else:\n",
        "  print(\"Bike safe!\")"
      ]
    },
    {
      "cell_type": "markdown",
      "metadata": {
        "id": "NBbXLLEGr2AM"
      },
      "source": [
        "This can be combined with `input()` to create an interactive program!\n",
        "\n",
        "(Note that `int()` is used with `input()` to convert text to a whole number.)"
      ]
    },
    {
      "cell_type": "code",
      "execution_count": null,
      "metadata": {
        "id": "eNHDKTSKuJCH"
      },
      "outputs": [],
      "source": [
        "num = int(input(\"Enter a number: \"))\n",
        "if num < 0:\n",
        "  print(\"The number is negative.\")\n",
        "else:\n",
        "  print(\"The number is positive.\")"
      ]
    },
    {
      "cell_type": "markdown",
      "metadata": {
        "id": "uJRdVPmubiJR"
      },
      "source": [
        "<br><hr style=\"border: 0.5px solid#C4C4C4;\" /><br>\n",
        "## 5) Loops\n",
        "\n",
        "Let's say you had your birthday in 10 days and you wanted to count down the number of days until your birthday. Based on what you have learned so far, you would do something like..."
      ]
    },
    {
      "cell_type": "code",
      "execution_count": null,
      "metadata": {
        "id": "SXvssUgrfsxX"
      },
      "outputs": [],
      "source": [
        "print(\"10 days until my birthday\")\n",
        "print(\"9 days until my birthday\")\n",
        "print(\"8 days until my birthday\")\n",
        "print(\"7 days until my birthday\")\n",
        "print(\"6 days until my birthday\")\n",
        "print(\"5 days until my birthday\")\n",
        "print(\"4 days until my birthday\")\n",
        "print(\"3 days until my birthday\")\n",
        "print(\"2 days until my birthday\")\n",
        "print(\"1 days until my birthday\")\n",
        "print(\"0 days until my birthday\")"
      ]
    },
    {
      "cell_type": "markdown",
      "metadata": {
        "id": "i5eG71bVfvnu"
      },
      "source": [
        "However, you have a soccer match in a few minutes and you don't have time to write and copy paste the same code again and again. Imagine if there were 100 days until your birthday :o You can see how this can be really irritation and tiring!\n",
        "\n",
        "And hence, we have loops to the rescue :)\n",
        "\n",
        "A loop is a shape that has no end. Think about a circular playground. This playground has an entry and an exit point somewhere along its edge. You decide to put in some exercise and start jogging along the playground's edge. You have two options now: in the beginning, when you are really energetic, you will keep circling around the playground, but once you are tired, you will stop and exit through the exit gate.\n",
        "\n",
        "Loops are really interesting and helpful because you can let the program perform a certain task repeatedly on its own until it reaches a point where it stops because the condition which made it keep looping was violated.\n",
        "\n",
        "There are different kinds of loops, but we will mainly focus on the `while` loop in this class.\n",
        "\n",
        "Look at the code snippet below..."
      ]
    },
    {
      "cell_type": "code",
      "execution_count": null,
      "metadata": {
        "id": "wyxkRoGmfP5k"
      },
      "outputs": [],
      "source": [
        "days_until_birthday = 10\n",
        "\n",
        "while (days_until_birthday >= 0):\n",
        "    print(days_until_birthday, \"days until my birthday\")\n",
        "    days_until_birthday = days_until_birthday - 1"
      ]
    },
    {
      "cell_type": "markdown",
      "metadata": {
        "id": "eRwrx1h6hRVr"
      },
      "source": [
        "Whoa! What just happened? Instead of having to write 100 lines of code, I can just change `days_until_birthday` from `10` to `100`, and the same 4 lines of code will do what I want to do. Isn't this awesome?\n",
        "\n",
        "What the `while` loop did was:\n",
        " - It initially knows that there are 10 days until birthday because of the `days_until_birthday` variable.\n",
        " - It then goes to the `while` loop, which says, \"while `days_until_birthday` is greater than or equal to 0, do whatever is written inside me\". `days_until_birthday = 10`, so we print it out and we decrement (subtract 1 from) `days_until_birthday`. Now, `days_until_birthday = 9`.\n",
        " - We go back to the `while` loop and check, \"while `days_until_birthday` is greater than or equal to 0, do whatever is written inside me\". `days_until_birthday = 9`, so we print it out and we subtract 1 from `days_until_birthday`. Now, `days_until_birthday = 8`.\n",
        " - We go back to the `while` loop and check, \"while `days_until_birthday` is greater than or equal to 0, do whatever is written inside me\". `days_until_birthday = 8`, so we print it out and we decrement (subtract 1 from) `days_until_birthday`. Now, `days_until_birthday = 7`.\n",
        " - We keep doing this until `days_until_birthday = 0`.\n",
        " - We go back to the `while` loop and check, \"while `days_until_birthday` is greater than or equal to 0, do whatever is written inside me\". `days_until_birthday = 0` which is greater than OR EQUAL TO 0, so we print it out and we decrement (subtract 1 from) `days_until_birthday`. Now, `days_until_birthday = -1`.\n",
        " - We go back to the `while` loop and check, \"while `days_until_birthday` is greater than or equal to 0, do whatever is written inside me\". `days_until_birthday = -1`, which is NOT greater than or equal to 0. It is LESS than 0. The condition in the `while` loop is violated. And we stop.\n",
        "\n",
        "\n",
        " I know... I know... you have become experts in `while` loops now... Here is another code snippet. Try to find out what the condition inside the `while` loop should be for the code to print out 5 negative integers greater than -6."
      ]
    },
    {
      "cell_type": "code",
      "execution_count": null,
      "metadata": {
        "id": "VEKxasXDjjIE"
      },
      "outputs": [],
      "source": [
        "# Your code should print out -5, -4, -3, -2, and -1\n",
        "\n",
        "num = -5\n",
        "\n",
        "while (???):\n",
        "    print(num)\n",
        "    ???"
      ]
    },
    {
      "cell_type": "markdown",
      "metadata": {
        "id": "mZ01aGzW2mf5"
      },
      "source": [
        "<br><hr style=\"border: 0.5px solid#C4C4C4;\" /><br>\n",
        "## 6) Functions\n",
        "\n",
        "Python and other programming languages have uses beyond simple arthimetic computation. More complex functionalities come in the form of functions. Many progamming languages have **built-in functions**. To execute a function you write the name of the function followed by `()`. A function is provided inputs within the `()`. \n",
        "\n",
        "We will explore the following functions: \n",
        "<br>\n",
        "\n",
        "*   `print()`: prints a specified message to the screen\n",
        "*   `shuffle()`: shuffles a list\n",
        "*   `max()`: Returns the maximum value between 2 or more values\n",
        "*   `min()`: Returns the smallest value between 2 or more values\n",
        "* `append()`: adds an item to the end of the list\n",
        "\n",
        "\n",
        "\n",
        "\n",
        "\n",
        " \n",
        "\n",
        "\n"
      ]
    },
    {
      "cell_type": "code",
      "execution_count": null,
      "metadata": {
        "id": "Z6OFw-e0WItK"
      },
      "outputs": [],
      "source": [
        "# Create and store a list of numbers 1 through 5 as a variable called: num_list\n",
        "num_list = [???]\n",
        "\n",
        "# Print your list of numbers 1 through 5. \n",
        "print(???)\n",
        "\n",
        "# Before your number list print \"My number list = \"\n",
        "print(\"My Number List\", ???)\n",
        "\n"
      ]
    },
    {
      "cell_type": "markdown",
      "metadata": {
        "id": "Rt6jc068YpwM"
      },
      "source": [
        "We can manipulate lists in different ways. The shuffle function allows you to randomly reorganize the order of items within an existing list. \n",
        "\n",
        "\n",
        "```\n",
        "#Example\n",
        "numbers = [0,1,2,3,4]\n",
        "shuffle(numbers)\n",
        "```\n",
        "\n"
      ]
    },
    {
      "cell_type": "code",
      "execution_count": null,
      "metadata": {
        "id": "eRNkbYbEk0LA"
      },
      "outputs": [],
      "source": [
        "# Using the shuffle function shuffle your number list \n",
        "original_list = ???\n",
        "\n",
        "#Print your original list\n",
        "print(\"Original List:\", ???)\n",
        "\n",
        "random.shuffle(???)\n",
        "\n",
        "#Print your shuffled list\n",
        "print(\"Shuffled list:\", ???)\n"
      ]
    },
    {
      "cell_type": "markdown",
      "metadata": {
        "id": "DEaDWdjGm003"
      },
      "source": [
        "We can also use functions to find specific information about a list. If we have a list of 100 numbers we can use the max() and min() functions to find the greatest and smallest numbers. "
      ]
    },
    {
      "cell_type": "code",
      "execution_count": null,
      "metadata": {
        "colab": {
          "base_uri": "https://localhost:8080/"
        },
        "id": "PJfb8K9XYGbO",
        "outputId": "4f1c0381-f29b-43fb-9bbe-4044577f25e8"
      },
      "outputs": [],
      "source": [
        "# Create list of 100 numbers\n",
        "randomlist = []\n",
        "for i in range(0,100):\n",
        "  hundred_num = random.randint(1,30)\n",
        "  randomlist.append(???)\n",
        "print(randomlist)\n",
        "\n",
        "#Find and print the largest number in the list hundred_num\n",
        "??? = max(???)\n",
        "print(\"The largest number is\", ???)\n",
        "\n",
        "\n",
        "#Find and print the smallest number in the list hundred_num\n",
        "??? = min(???)\n",
        "print(\"The smallest number is\", ???)\n"
      ]
    },
    {
      "cell_type": "markdown",
      "metadata": {
        "id": "9MZaRVF1n7yw"
      },
      "source": [
        "Often times we are dealign with a large quantity of numbers and it may take a long time to manually identify the largest and smallest number. By using the max() and min() functions we are able to quickly analyze our data. "
      ]
    },
    {
      "cell_type": "markdown",
      "metadata": {
        "collapsed": true,
        "id": "s2lxR7ky2mf6"
      },
      "source": [
        "<br><hr style=\"border: 0.5px solid#C4C4C4;\" /><br>\n",
        "## 7) Practice Problems\n",
        "\n",
        "Now that we have learned about mathematical operations, variables, strings, lists, and functions lets try to use python to solve some problems. "
      ]
    },
    {
      "cell_type": "markdown",
      "metadata": {
        "id": "6M4v6Mbj2mf-"
      },
      "source": [
        "<br>\n",
        "\n",
        "### You wake up in the morning and are getting ready to come to school, but you need to make choices on: \n",
        "+ a) What to do first\n",
        "+ b) What to wear\n",
        "+ c) What to eat\n",
        "\n",
        "\n",
        "\n",
        "**Tip:** Create separate lists for each category. \n"
      ]
    },
    {
      "cell_type": "markdown",
      "metadata": {
        "id": "meObLWQF2mf_"
      },
      "source": [
        "<br>\n",
        "\n",
        "#### 7.1) What do you do first?\n",
        "Create a list of the following: \n",
        "+ Make your bed\n",
        "+ Brush teeth\n",
        "+ Eat Breakfast\n",
        "+ Get dressed\n",
        "\n",
        "and use a function to **shuffle** and determine the order in which you should do your morning tasks.\n"
      ]
    },
    {
      "cell_type": "code",
      "execution_count": null,
      "metadata": {
        "id": "FHx5-2BOqOIO"
      },
      "outputs": [],
      "source": [
        "# Create a list as a variable morning_tasks\n",
        "morning_tasks = []\n",
        "\n",
        "#Use a function to rearrange your list order\n",
        "\n",
        "#Print the order in which you should do your morning tasks\n",
        "print(\"???\", ???)"
      ]
    },
    {
      "cell_type": "markdown",
      "metadata": {
        "id": "ylQzkvCi2mgA"
      },
      "source": [
        "<br>\n",
        "\n",
        "#### 7.2) You are now getting dressed but can't decide what color clothes to wear?\n",
        "Create 3 lists of the following categories: \n",
        "+ Top\n",
        "  - Blue, Red, Green, Yellow, Purple, White, Black, Pink\n",
        "\n",
        "+ Bottom\n",
        "  - Cyan, Orange, Green, Checkers, Purple, Stripes, Black, Pink\n",
        "\n",
        "+ Shoes\n",
        "  - Sandals, Running Shoes, Crocs\n",
        "\n",
        "Use a function to determine what you should wear for each part of your outfit to school.\n"
      ]
    },
    {
      "cell_type": "code",
      "execution_count": null,
      "metadata": {
        "id": "XSkKkIBorUwp"
      },
      "outputs": [],
      "source": [
        "#Create a List for Tops \n",
        "tops = \n",
        "\n",
        "#Create a List fot Bottoms\n",
        "bottoms = \n",
        "\n",
        "#Create a List for Shoes\n",
        "shoes = \n",
        "\n",
        "#Determine What to Wear"
      ]
    },
    {
      "cell_type": "markdown",
      "metadata": {
        "id": "U_zF-muE2mgB"
      },
      "source": [
        "<br>\n",
        "\n",
        "#### 7.3) You are getting ready to eat, but are also indecisive on what you want to eat. Running out of time you want to randomly select what to eat for breakfast. \n",
        "Create a lists of five foods, you can pick any five foods. Create a list for your five foods and use a function to determine what food you will eat. "
      ]
    },
    {
      "cell_type": "code",
      "execution_count": null,
      "metadata": {
        "id": "q9NfBlQ-tLgo"
      },
      "outputs": [],
      "source": [
        "# Create list of five foods\n",
        "\n",
        "\n",
        "# Randomly select a food \n",
        "\n",
        "\n",
        "# Print the food you will be eating for breakfast"
      ]
    },
    {
      "cell_type": "markdown",
      "metadata": {
        "id": "OB_t7lR8Pm9T"
      },
      "source": [
        "## 8) Making a Drawing using Turtle"
      ]
    },
    {
      "cell_type": "markdown",
      "metadata": {
        "id": "acVfYEhyX2aJ"
      },
      "source": [
        "## What is Turtle (ColabTurtle)\n",
        "\n",
        "\n",
        "Turtle was part of the original Logo programming language!! You can imagine a turtle which is drawing out the path which it travels on. Colab Turtle makes use of functions to perform tasks, some of which we will be using below. \n",
        "\n",
        "Turtle Functions Move and Draw: \n",
        "<br>\n",
        "\n",
        "|Function| Code |   \n",
        "|---                     |   ---      |\n",
        "| Move forward           |  forward() | \n",
        "| Move Right             |  right()   |\n",
        "| Move Left              |    left()  |   \n",
        "| Movement Speed         |    speed() |   \n",
        "\n",
        "Turtle Functions For The Pen: \n",
        "<br>\n",
        "\n",
        "\n",
        "|Function| Code |   \n",
        "|---                     |   ---      |\n",
        "| Move the Pen Down      | pendown()  | \n",
        "| Move the Pen Up        | penup()    |\n",
        " "
      ]
    },
    {
      "cell_type": "code",
      "execution_count": null,
      "metadata": {
        "colab": {
          "base_uri": "https://localhost:8080/"
        },
        "id": "qf8bIl2YRCzC",
        "outputId": "4bd5fbc6-e601-4a74-8bde-a13842c0b08c"
      },
      "outputs": [],
      "source": [
        "!pip3 install ColabTurtle\n",
        "\n"
      ]
    },
    {
      "cell_type": "code",
      "execution_count": null,
      "metadata": {
        "colab": {
          "base_uri": "https://localhost:8080/",
          "height": 521
        },
        "id": "t9IS8ATgSS7n",
        "outputId": "ed4efb0c-8fa6-41eb-c28f-b00ac577b0d2"
      },
      "outputs": [
        {
          "data": {
            "text/html": [
              "\n",
              "      <svg width=\"800\" height=\"500\">\n",
              "        <rect width=\"100%\" height=\"100%\" fill=\"#efefef\"/>\n",
              "        <line x1=\"150\" y1=\"200\" x2=\"150.0\" y2=\"100.0\" stroke-linecap=\"round\" style=\"stroke:mediumblue;stroke-width:4\"/><line x1=\"150.0\" y1=\"100.0\" x2=\"218.829\" y2=\"198.298\" stroke-linecap=\"round\" style=\"stroke:mediumblue;stroke-width:4\"/><line x1=\"218.829\" y1=\"198.298\" x2=\"218.829\" y2=\"98.298\" stroke-linecap=\"round\" style=\"stroke:mediumblue;stroke-width:4\"/><line x1=\"318.829\" y1=\"98.298\" x2=\"335.829\" y2=\"98.298\" stroke-linecap=\"round\" style=\"stroke:mediumblue;stroke-width:4\"/><line x1=\"335.829\" y1=\"98.298\" x2=\"351.804\" y2=\"104.112\" stroke-linecap=\"round\" style=\"stroke:mediumblue;stroke-width:4\"/><line x1=\"351.804\" y1=\"104.112\" x2=\"364.827\" y2=\"115.039\" stroke-linecap=\"round\" style=\"stroke:mediumblue;stroke-width:4\"/><line x1=\"364.827\" y1=\"115.039\" x2=\"373.327\" y2=\"129.761\" stroke-linecap=\"round\" style=\"stroke:mediumblue;stroke-width:4\"/><line x1=\"373.327\" y1=\"129.761\" x2=\"376.279\" y2=\"146.503\" stroke-linecap=\"round\" style=\"stroke:mediumblue;stroke-width:4\"/><line x1=\"376.279\" y1=\"146.503\" x2=\"373.327\" y2=\"163.245\" stroke-linecap=\"round\" style=\"stroke:mediumblue;stroke-width:4\"/><line x1=\"373.327\" y1=\"163.245\" x2=\"364.827\" y2=\"177.967\" stroke-linecap=\"round\" style=\"stroke:mediumblue;stroke-width:4\"/><line x1=\"364.827\" y1=\"177.967\" x2=\"351.804\" y2=\"188.894\" stroke-linecap=\"round\" style=\"stroke:mediumblue;stroke-width:4\"/><line x1=\"351.804\" y1=\"188.894\" x2=\"335.829\" y2=\"194.708\" stroke-linecap=\"round\" style=\"stroke:mediumblue;stroke-width:4\"/><line x1=\"335.829\" y1=\"194.708\" x2=\"318.829\" y2=\"194.708\" stroke-linecap=\"round\" style=\"stroke:mediumblue;stroke-width:4\"/><line x1=\"318.829\" y1=\"194.708\" x2=\"302.854\" y2=\"188.894\" stroke-linecap=\"round\" style=\"stroke:mediumblue;stroke-width:4\"/><line x1=\"302.854\" y1=\"188.894\" x2=\"289.831\" y2=\"177.967\" stroke-linecap=\"round\" style=\"stroke:mediumblue;stroke-width:4\"/><line x1=\"289.831\" y1=\"177.967\" x2=\"281.331\" y2=\"163.245\" stroke-linecap=\"round\" style=\"stroke:mediumblue;stroke-width:4\"/><line x1=\"281.331\" y1=\"163.245\" x2=\"278.379\" y2=\"146.503\" stroke-linecap=\"round\" style=\"stroke:mediumblue;stroke-width:4\"/><line x1=\"278.379\" y1=\"146.503\" x2=\"281.331\" y2=\"129.761\" stroke-linecap=\"round\" style=\"stroke:mediumblue;stroke-width:4\"/><line x1=\"281.331\" y1=\"129.761\" x2=\"289.831\" y2=\"115.039\" stroke-linecap=\"round\" style=\"stroke:mediumblue;stroke-width:4\"/><line x1=\"289.831\" y1=\"115.039\" x2=\"302.854\" y2=\"104.112\" stroke-linecap=\"round\" style=\"stroke:mediumblue;stroke-width:4\"/><line x1=\"302.854\" y1=\"104.112\" x2=\"318.829\" y2=\"98.298\" stroke-linecap=\"round\" style=\"stroke:mediumblue;stroke-width:4\"/><line x1=\"418.829\" y1=\"98.298\" x2=\"473.829\" y2=\"193.561\" stroke-linecap=\"round\" style=\"stroke:rgb(230,90,120);stroke-width:4\"/><line x1=\"473.829\" y1=\"193.561\" x2=\"528.829\" y2=\"98.298\" stroke-linecap=\"round\" style=\"stroke:rgb(230,90,120);stroke-width:4\"/><line x1=\"568.829\" y1=\"198.298\" x2=\"613.204\" y2=\"103.136\" stroke-linecap=\"round\" style=\"stroke:rgb(230,90,120);stroke-width:4\"/><line x1=\"613.204\" y1=\"103.136\" x2=\"657.579\" y2=\"198.298\" stroke-linecap=\"round\" style=\"stroke:rgb(230,90,120);stroke-width:4\"/><line x1=\"657.579\" y1=\"198.298\" x2=\"638.561\" y2=\"157.514\" stroke-linecap=\"round\" style=\"stroke:rgb(230,90,120);stroke-width:4\"/><line x1=\"638.561\" y1=\"157.514\" x2=\"588.561\" y2=\"157.514\" stroke-linecap=\"round\" style=\"stroke:rgb(230,90,120);stroke-width:4\"/><line x1=\"658.561\" y1=\"257.514\" x2=\"108.561\" y2=\"257.514\" stroke-linecap=\"round\" style=\"stroke:black;stroke-width:7\"/><line x1=\"108.561\" y1=\"257.514\" x2=\"115.561\" y2=\"257.514\" stroke-linecap=\"round\" style=\"stroke:black;stroke-width:7\"/><line x1=\"115.561\" y1=\"257.514\" x2=\"122.561\" y2=\"257.538\" stroke-linecap=\"round\" style=\"stroke:black;stroke-width:7\"/><line x1=\"122.561\" y1=\"257.538\" x2=\"129.561\" y2=\"257.587\" stroke-linecap=\"round\" style=\"stroke:black;stroke-width:7\"/><line x1=\"129.561\" y1=\"257.587\" x2=\"136.561\" y2=\"257.66\" stroke-linecap=\"round\" style=\"stroke:black;stroke-width:7\"/><line x1=\"136.561\" y1=\"257.66\" x2=\"143.56\" y2=\"257.758\" stroke-linecap=\"round\" style=\"stroke:black;stroke-width:7\"/><line x1=\"143.56\" y1=\"257.758\" x2=\"150.559\" y2=\"257.88\" stroke-linecap=\"round\" style=\"stroke:black;stroke-width:7\"/><line x1=\"150.559\" y1=\"257.88\" x2=\"157.557\" y2=\"258.027\" stroke-linecap=\"round\" style=\"stroke:black;stroke-width:7\"/><line x1=\"157.557\" y1=\"258.027\" x2=\"164.555\" y2=\"258.198\" stroke-linecap=\"round\" style=\"stroke:black;stroke-width:7\"/><line x1=\"164.555\" y1=\"258.198\" x2=\"171.552\" y2=\"258.393\" stroke-linecap=\"round\" style=\"stroke:black;stroke-width:7\"/><line x1=\"171.552\" y1=\"258.393\" x2=\"178.549\" y2=\"258.613\" stroke-linecap=\"round\" style=\"stroke:black;stroke-width:7\"/><line x1=\"178.549\" y1=\"258.613\" x2=\"185.545\" y2=\"258.857\" stroke-linecap=\"round\" style=\"stroke:black;stroke-width:7\"/><line x1=\"185.545\" y1=\"258.857\" x2=\"192.54\" y2=\"259.126\" stroke-linecap=\"round\" style=\"stroke:black;stroke-width:7\"/><line x1=\"192.54\" y1=\"259.126\" x2=\"199.534\" y2=\"259.419\" stroke-linecap=\"round\" style=\"stroke:black;stroke-width:7\"/><line x1=\"199.534\" y1=\"259.419\" x2=\"206.527\" y2=\"259.737\" stroke-linecap=\"round\" style=\"stroke:black;stroke-width:7\"/><line x1=\"206.527\" y1=\"259.737\" x2=\"213.519\" y2=\"260.079\" stroke-linecap=\"round\" style=\"stroke:black;stroke-width:7\"/><line x1=\"213.519\" y1=\"260.079\" x2=\"220.509\" y2=\"260.445\" stroke-linecap=\"round\" style=\"stroke:black;stroke-width:7\"/><line x1=\"220.509\" y1=\"260.445\" x2=\"227.498\" y2=\"260.836\" stroke-linecap=\"round\" style=\"stroke:black;stroke-width:7\"/><line x1=\"227.498\" y1=\"260.836\" x2=\"234.486\" y2=\"261.251\" stroke-linecap=\"round\" style=\"stroke:black;stroke-width:7\"/><line x1=\"234.486\" y1=\"261.251\" x2=\"241.472\" y2=\"261.691\" stroke-linecap=\"round\" style=\"stroke:black;stroke-width:7\"/><line x1=\"241.472\" y1=\"261.691\" x2=\"248.457\" y2=\"262.155\" stroke-linecap=\"round\" style=\"stroke:black;stroke-width:7\"/><line x1=\"248.457\" y1=\"262.155\" x2=\"255.44\" y2=\"262.643\" stroke-linecap=\"round\" style=\"stroke:black;stroke-width:7\"/><line x1=\"255.44\" y1=\"262.643\" x2=\"262.421\" y2=\"263.156\" stroke-linecap=\"round\" style=\"stroke:black;stroke-width:7\"/><line x1=\"262.421\" y1=\"263.156\" x2=\"269.4\" y2=\"263.693\" stroke-linecap=\"round\" style=\"stroke:black;stroke-width:7\"/><line x1=\"269.4\" y1=\"263.693\" x2=\"276.377\" y2=\"264.254\" stroke-linecap=\"round\" style=\"stroke:black;stroke-width:7\"/><line x1=\"276.377\" y1=\"264.254\" x2=\"283.352\" y2=\"264.84\" stroke-linecap=\"round\" style=\"stroke:black;stroke-width:7\"/><line x1=\"283.352\" y1=\"264.84\" x2=\"290.325\" y2=\"265.45\" stroke-linecap=\"round\" style=\"stroke:black;stroke-width:7\"/><line x1=\"290.325\" y1=\"265.45\" x2=\"297.296\" y2=\"266.084\" stroke-linecap=\"round\" style=\"stroke:black;stroke-width:7\"/><line x1=\"297.296\" y1=\"266.084\" x2=\"304.265\" y2=\"266.743\" stroke-linecap=\"round\" style=\"stroke:black;stroke-width:7\"/><line x1=\"304.265\" y1=\"266.743\" x2=\"311.232\" y2=\"267.426\" stroke-linecap=\"round\" style=\"stroke:black;stroke-width:7\"/><line x1=\"311.232\" y1=\"267.426\" x2=\"318.196\" y2=\"268.133\" stroke-linecap=\"round\" style=\"stroke:black;stroke-width:7\"/><line x1=\"318.196\" y1=\"268.133\" x2=\"325.158\" y2=\"268.865\" stroke-linecap=\"round\" style=\"stroke:black;stroke-width:7\"/><line x1=\"325.158\" y1=\"268.865\" x2=\"332.117\" y2=\"269.621\" stroke-linecap=\"round\" style=\"stroke:black;stroke-width:7\"/><line x1=\"332.117\" y1=\"269.621\" x2=\"339.073\" y2=\"270.401\" stroke-linecap=\"round\" style=\"stroke:black;stroke-width:7\"/><line x1=\"339.073\" y1=\"270.401\" x2=\"346.027\" y2=\"271.206\" stroke-linecap=\"round\" style=\"stroke:black;stroke-width:7\"/><line x1=\"346.027\" y1=\"271.206\" x2=\"352.978\" y2=\"272.035\" stroke-linecap=\"round\" style=\"stroke:black;stroke-width:7\"/><line x1=\"352.978\" y1=\"272.035\" x2=\"359.926\" y2=\"272.888\" stroke-linecap=\"round\" style=\"stroke:black;stroke-width:7\"/><line x1=\"359.926\" y1=\"272.888\" x2=\"366.871\" y2=\"273.765\" stroke-linecap=\"round\" style=\"stroke:black;stroke-width:7\"/><line x1=\"366.871\" y1=\"273.765\" x2=\"373.813\" y2=\"274.667\" stroke-linecap=\"round\" style=\"stroke:black;stroke-width:7\"/><line x1=\"373.813\" y1=\"274.667\" x2=\"380.752\" y2=\"275.593\" stroke-linecap=\"round\" style=\"stroke:black;stroke-width:7\"/><line x1=\"380.752\" y1=\"275.593\" x2=\"387.687\" y2=\"276.543\" stroke-linecap=\"round\" style=\"stroke:black;stroke-width:7\"/><line x1=\"387.687\" y1=\"276.543\" x2=\"394.619\" y2=\"277.517\" stroke-linecap=\"round\" style=\"stroke:black;stroke-width:7\"/><line x1=\"394.619\" y1=\"277.517\" x2=\"401.547\" y2=\"278.515\" stroke-linecap=\"round\" style=\"stroke:black;stroke-width:7\"/><line x1=\"401.547\" y1=\"278.515\" x2=\"408.472\" y2=\"279.538\" stroke-linecap=\"round\" style=\"stroke:black;stroke-width:7\"/><line x1=\"408.472\" y1=\"279.538\" x2=\"415.393\" y2=\"280.585\" stroke-linecap=\"round\" style=\"stroke:black;stroke-width:7\"/><line x1=\"415.393\" y1=\"280.585\" x2=\"422.311\" y2=\"281.656\" stroke-linecap=\"round\" style=\"stroke:black;stroke-width:7\"/><line x1=\"422.311\" y1=\"281.656\" x2=\"429.225\" y2=\"282.751\" stroke-linecap=\"round\" style=\"stroke:black;stroke-width:7\"/><line x1=\"429.225\" y1=\"282.751\" x2=\"436.135\" y2=\"283.87\" stroke-linecap=\"round\" style=\"stroke:black;stroke-width:7\"/><line x1=\"436.135\" y1=\"283.87\" x2=\"443.041\" y2=\"285.013\" stroke-linecap=\"round\" style=\"stroke:black;stroke-width:7\"/><line x1=\"443.041\" y1=\"285.013\" x2=\"449.943\" y2=\"286.18\" stroke-linecap=\"round\" style=\"stroke:black;stroke-width:7\"/><line x1=\"449.943\" y1=\"286.18\" x2=\"456.841\" y2=\"287.371\" stroke-linecap=\"round\" style=\"stroke:black;stroke-width:7\"/><line x1=\"456.841\" y1=\"287.371\" x2=\"463.735\" y2=\"288.587\" stroke-linecap=\"round\" style=\"stroke:black;stroke-width:7\"/><line x1=\"463.735\" y1=\"288.587\" x2=\"470.624\" y2=\"289.827\" stroke-linecap=\"round\" style=\"stroke:black;stroke-width:7\"/><line x1=\"470.624\" y1=\"289.827\" x2=\"477.509\" y2=\"291.091\" stroke-linecap=\"round\" style=\"stroke:black;stroke-width:7\"/><line x1=\"477.509\" y1=\"291.091\" x2=\"484.39\" y2=\"292.379\" stroke-linecap=\"round\" style=\"stroke:black;stroke-width:7\"/><line x1=\"484.39\" y1=\"292.379\" x2=\"491.266\" y2=\"293.691\" stroke-linecap=\"round\" style=\"stroke:black;stroke-width:7\"/><line x1=\"491.266\" y1=\"293.691\" x2=\"498.137\" y2=\"295.027\" stroke-linecap=\"round\" style=\"stroke:black;stroke-width:7\"/><line x1=\"498.137\" y1=\"295.027\" x2=\"505.004\" y2=\"296.387\" stroke-linecap=\"round\" style=\"stroke:black;stroke-width:7\"/><line x1=\"505.004\" y1=\"296.387\" x2=\"511.866\" y2=\"297.771\" stroke-linecap=\"round\" style=\"stroke:black;stroke-width:7\"/><line x1=\"511.866\" y1=\"297.771\" x2=\"518.723\" y2=\"299.179\" stroke-linecap=\"round\" style=\"stroke:black;stroke-width:7\"/><line x1=\"518.723\" y1=\"299.179\" x2=\"525.575\" y2=\"300.61\" stroke-linecap=\"round\" style=\"stroke:black;stroke-width:7\"/><line x1=\"525.575\" y1=\"300.61\" x2=\"532.422\" y2=\"302.065\" stroke-linecap=\"round\" style=\"stroke:black;stroke-width:7\"/><line x1=\"532.422\" y1=\"302.065\" x2=\"539.264\" y2=\"303.544\" stroke-linecap=\"round\" style=\"stroke:black;stroke-width:7\"/><line x1=\"539.264\" y1=\"303.544\" x2=\"546.101\" y2=\"305.047\" stroke-linecap=\"round\" style=\"stroke:black;stroke-width:7\"/><line x1=\"546.101\" y1=\"305.047\" x2=\"552.932\" y2=\"306.574\" stroke-linecap=\"round\" style=\"stroke:black;stroke-width:7\"/><line x1=\"552.932\" y1=\"306.574\" x2=\"559.758\" y2=\"308.125\" stroke-linecap=\"round\" style=\"stroke:black;stroke-width:7\"/><line x1=\"559.758\" y1=\"308.125\" x2=\"566.579\" y2=\"309.7\" stroke-linecap=\"round\" style=\"stroke:black;stroke-width:7\"/><line x1=\"566.579\" y1=\"309.7\" x2=\"573.394\" y2=\"311.298\" stroke-linecap=\"round\" style=\"stroke:black;stroke-width:7\"/><line x1=\"573.394\" y1=\"311.298\" x2=\"580.203\" y2=\"312.92\" stroke-linecap=\"round\" style=\"stroke:black;stroke-width:7\"/><line x1=\"580.203\" y1=\"312.92\" x2=\"587.007\" y2=\"314.566\" stroke-linecap=\"round\" style=\"stroke:black;stroke-width:7\"/><line x1=\"587.007\" y1=\"314.566\" x2=\"593.805\" y2=\"316.236\" stroke-linecap=\"round\" style=\"stroke:black;stroke-width:7\"/><line x1=\"593.805\" y1=\"316.236\" x2=\"600.597\" y2=\"317.929\" stroke-linecap=\"round\" style=\"stroke:black;stroke-width:7\"/><line x1=\"600.597\" y1=\"317.929\" x2=\"607.383\" y2=\"319.646\" stroke-linecap=\"round\" style=\"stroke:black;stroke-width:7\"/><line x1=\"607.383\" y1=\"319.646\" x2=\"614.163\" y2=\"321.387\" stroke-linecap=\"round\" style=\"stroke:black;stroke-width:7\"/><line x1=\"614.163\" y1=\"321.387\" x2=\"620.937\" y2=\"323.151\" stroke-linecap=\"round\" style=\"stroke:black;stroke-width:7\"/><line x1=\"620.937\" y1=\"323.151\" x2=\"627.705\" y2=\"324.939\" stroke-linecap=\"round\" style=\"stroke:black;stroke-width:7\"/><line x1=\"627.705\" y1=\"324.939\" x2=\"634.466\" y2=\"326.751\" stroke-linecap=\"round\" style=\"stroke:black;stroke-width:7\"/><line x1=\"634.466\" y1=\"326.751\" x2=\"641.221\" y2=\"328.586\" stroke-linecap=\"round\" style=\"stroke:black;stroke-width:7\"/><line x1=\"641.221\" y1=\"328.586\" x2=\"647.97\" y2=\"330.445\" stroke-linecap=\"round\" style=\"stroke:black;stroke-width:7\"/><line x1=\"647.97\" y1=\"330.445\" x2=\"654.712\" y2=\"332.327\" stroke-linecap=\"round\" style=\"stroke:black;stroke-width:7\"/><line x1=\"654.712\" y1=\"332.327\" x2=\"661.448\" y2=\"334.233\" stroke-linecap=\"round\" style=\"stroke:black;stroke-width:7\"/><line x1=\"661.448\" y1=\"334.233\" x2=\"668.177\" y2=\"336.162\" stroke-linecap=\"round\" style=\"stroke:black;stroke-width:7\"/><line x1=\"668.177\" y1=\"336.162\" x2=\"674.899\" y2=\"338.115\" stroke-linecap=\"round\" style=\"stroke:black;stroke-width:7\"/><line x1=\"674.899\" y1=\"338.115\" x2=\"681.614\" y2=\"340.091\" stroke-linecap=\"round\" style=\"stroke:black;stroke-width:7\"/><line x1=\"681.614\" y1=\"340.091\" x2=\"688.322\" y2=\"342.091\" stroke-linecap=\"round\" style=\"stroke:black;stroke-width:7\"/><line x1=\"688.322\" y1=\"342.091\" x2=\"695.023\" y2=\"344.114\" stroke-linecap=\"round\" style=\"stroke:black;stroke-width:7\"/><line x1=\"695.023\" y1=\"344.114\" x2=\"701.717\" y2=\"346.161\" stroke-linecap=\"round\" style=\"stroke:black;stroke-width:7\"/><line x1=\"701.717\" y1=\"346.161\" x2=\"708.404\" y2=\"348.231\" stroke-linecap=\"round\" style=\"stroke:black;stroke-width:7\"/><line x1=\"708.404\" y1=\"348.231\" x2=\"715.084\" y2=\"350.324\" stroke-linecap=\"round\" style=\"stroke:black;stroke-width:7\"/><line x1=\"715.084\" y1=\"350.324\" x2=\"721.756\" y2=\"352.441\" stroke-linecap=\"round\" style=\"stroke:black;stroke-width:7\"/><line x1=\"721.756\" y1=\"352.441\" x2=\"728.421\" y2=\"354.581\" stroke-linecap=\"round\" style=\"stroke:black;stroke-width:7\"/><text x=\"428.421\" y=\"354.581\" fill=\"black\" text-anchor=\"middle\" style=\"font-size:25px;font-family:'Arial';font-style:italic;\">Pyhton Workshop</text>\n",
              "        <g visibility=visible transform=\"rotate(360,428.421,394.581) translate(410.421, 376.581)\">\n",
              "<path style=\" stroke:none;fill-rule:evenodd;fill:rgb(70 110 70);fill-opacity:1;\" d=\"M 18.214844 0.632812 C 16.109375 1.800781 15.011719 4.074219 15.074219 7.132812 L 15.085938 7.652344 L 14.785156 7.496094 C 13.476562 6.824219 11.957031 6.671875 10.40625 7.066406 C 8.46875 7.550781 6.515625 9.15625 4.394531 11.992188 C 3.0625 13.777344 2.679688 14.636719 3.042969 15.027344 L 3.15625 15.152344 L 3.519531 15.152344 C 4.238281 15.152344 4.828125 14.886719 8.1875 13.039062 C 9.386719 12.378906 10.371094 11.839844 10.378906 11.839844 C 10.386719 11.839844 10.355469 11.929688 10.304688 12.035156 C 9.832031 13.09375 9.257812 14.820312 8.96875 16.078125 C 7.914062 20.652344 8.617188 24.53125 11.070312 27.660156 C 11.351562 28.015625 11.363281 27.914062 10.972656 28.382812 C 8.925781 30.84375 7.945312 33.28125 8.238281 35.1875 C 8.289062 35.527344 8.28125 35.523438 8.917969 35.523438 C 10.941406 35.523438 13.074219 34.207031 15.136719 31.6875 C 15.359375 31.417969 15.328125 31.425781 15.5625 31.574219 C 16.292969 32.042969 18.023438 32.964844 18.175781 32.964844 C 18.335938 32.964844 19.941406 32.210938 20.828125 31.71875 C 20.996094 31.625 21.136719 31.554688 21.136719 31.558594 C 21.203125 31.664062 21.898438 32.414062 22.222656 32.730469 C 23.835938 34.300781 25.5625 35.132812 27.582031 35.300781 C 27.90625 35.328125 27.9375 35.308594 28.007812 34.984375 C 28.382812 33.242188 27.625 30.925781 25.863281 28.425781 L 25.542969 27.96875 L 25.699219 27.785156 C 28.945312 23.960938 29.132812 18.699219 26.257812 11.96875 L 26.207031 11.84375 L 27.945312 12.703125 C 31.53125 14.476562 32.316406 14.800781 33.03125 14.800781 C 33.976562 14.800781 33.78125 13.9375 32.472656 12.292969 C 28.519531 7.355469 25.394531 5.925781 21.921875 7.472656 L 21.558594 7.636719 L 21.578125 7.542969 C 21.699219 6.992188 21.761719 5.742188 21.699219 5.164062 C 21.496094 3.296875 20.664062 1.964844 19.003906 0.855469 C 18.480469 0.503906 18.457031 0.5 18.214844 0.632812\"/>\n",
              "</g>\n",
              "      </svg>\n",
              "    "
            ],
            "text/plain": [
              "<IPython.core.display.HTML object>"
            ]
          },
          "metadata": {},
          "output_type": "display_data"
        }
      ],
      "source": [
        "from ColabTurtle.Turtle import *\n",
        "initializeTurtle()\n",
        "\n",
        "# write the letter N\n",
        "color('mediumblue')\n",
        "penup()\n",
        "goto(150, 200)\n",
        "pendown()\n",
        "forward(100)\n",
        "right(145)\n",
        "forward(120)\n",
        "left(145)\n",
        "forward(100)\n",
        "\n",
        "#Bring the Turtle to a new location\n",
        "penup()\n",
        "right(90)\n",
        "forward(100)\n",
        "pendown()\n",
        "speed(10)\n",
        "\n",
        "#Write the letter O\n",
        "for i in range(18):\n",
        "    forward(17)\n",
        "    right(20)\n",
        "penup()\n",
        "color(230, 90, 120)\n",
        "speed(7)\n",
        "\n",
        "#Move to a new Location\n",
        "forward(100)\n",
        "\n",
        "#Write the Letter V\n",
        "pendown()\n",
        "right(60)\n",
        "forward(110)\n",
        "right(240)\n",
        "forward(110)\n",
        "\n",
        "#Move to a new Location\n",
        "penup()\n",
        "speed(7)\n",
        "right(60)\n",
        "forward(40)\n",
        "right(90)\n",
        "forward(100)\n",
        "\n",
        "#Write the Letter A\n",
        "pendown()\n",
        "left(155)\n",
        "forward(105)\n",
        "right(130)\n",
        "forward(105)\n",
        "backward(45)\n",
        "right(115)\n",
        "forward(50)\n",
        "bgcolor(\"#efefef\")\n",
        "\n",
        "# Move to a new location and make a design\n",
        "penup()\n",
        "backward(70)\n",
        "left(90)\n",
        "forward(100)\n",
        "right(90)\n",
        "pencolor('black')\n",
        "pensize(7)\n",
        "pendown()\n",
        "forward(550)\n",
        "left(180)\n",
        "speed(12)\n",
        "for i in range(90):\n",
        "    forward(7)\n",
        "    right(0.2)\n",
        "speed(2)\n",
        "left(18+180)\n",
        "penup()\n",
        "forward(300)\n",
        "\n",
        "#Create The Header\n",
        "setheading(270)\n",
        "write(\"Pyhton Workshop\", align=\"center\", font=(25, \"Arial\", \"italic\"))\n",
        "color('rgb(70 110 70)')\n",
        "backward(40)"
      ]
    },
    {
      "cell_type": "markdown",
      "metadata": {
        "id": "6loKNcGrSSr9"
      },
      "source": []
    }
  ],
  "metadata": {
    "colab": {
      "collapsed_sections": [],
      "include_colab_link": true,
      "provenance": []
    },
    "kernelspec": {
      "display_name": "Python 3.10.5 64-bit",
      "language": "python",
      "name": "python3"
    },
    "language_info": {
      "codemirror_mode": {
        "name": "ipython",
        "version": 3
      },
      "file_extension": ".py",
      "mimetype": "text/x-python",
      "name": "python",
      "nbconvert_exporter": "python",
      "pygments_lexer": "ipython3",
      "version": "3.10.5"
    },
    "vscode": {
      "interpreter": {
        "hash": "ac06d3e645737b2f8fe3f9ec4108298f5d877cdc72d7e4dd5bda330acefa8fe6"
      }
    }
  },
  "nbformat": 4,
  "nbformat_minor": 0
}
